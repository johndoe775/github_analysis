{
 "cells": [
  {
   "cell_type": "code",
   "execution_count": 31,
   "id": "4c0d9468",
   "metadata": {},
   "outputs": [],
   "source": [
    "import os\n",
    "import yaml\n",
    "from dotenv import load_dotenv\n",
    "from langchain_groq import ChatGroq\n",
    "from typing import List, TypedDict, Annotated\n",
    "from langchain_community.document_loaders import PyPDFLoader\n",
    "from langchain_core.prompts import PromptTemplate\n",
    "from langchain_core.tools import tool\n",
    "\"\"\"\n",
    "from langchain.vectorstores import FAISS\n",
    "from langchain_core.graph import Graph, Node, StartNode, StopNode\n",
    "from langchain.docstore.document import Document\n",
    "from langchain_community.vectorstores import Chroma\n",
    "from langchain_community.embeddings import HuggingFaceEmbeddings\n",
    "from langchain.chains import RetrievalQA\n",
    "from langchain.prompts import PromptTemplate\n",
    "from langchain.text_splitter import RecursiveCharacterTextSplitter\n",
    "\"\"\"\n",
    "\n",
    "# Load environment variables\n",
    "load_dotenv()\n",
    "api_key = os.environ[\"groq\"]\n",
    "\n",
    "# Initialize LLM\n",
    "llm = ChatGroq(\n",
    "    model=\"llama-3.3-70b-versatile\",\n",
    "    temperature=0,\n",
    "    max_tokens=None,\n",
    "    timeout=None,\n",
    "    max_retries=2,\n",
    "    api_key=api_key\n",
    ")\n"
   ]
  },
  {
   "cell_type": "code",
   "execution_count": 32,
   "id": "b0468482",
   "metadata": {},
   "outputs": [
    {
     "data": {
      "text/plain": [
       "\"It's nice to meet you. Is there something I can help you with or would you like to chat?\""
      ]
     },
     "execution_count": 32,
     "metadata": {},
     "output_type": "execute_result"
    }
   ],
   "source": [
    "llm.invoke(\"hi\").content"
   ]
  },
  {
   "cell_type": "code",
   "execution_count": 33,
   "id": "c26187d0",
   "metadata": {},
   "outputs": [
    {
     "data": {
      "text/plain": [
       "'The Taj Mahal is located in Agra, a city in the Indian state of Uttar Pradesh. It is situated on the southern bank of the Yamuna River, approximately 230 kilometers (143 miles) south of New Delhi, the capital city of India.\\n\\nThe exact address of the Taj Mahal is:\\n\\nTaj Mahal, Dharmapuri, Forest Colony, Tajganj, Agra, Uttar Pradesh 282001, India\\n\\nIt is one of the most famous and iconic monuments in the world, and a popular tourist destination, attracting millions of visitors each year.'"
      ]
     },
     "execution_count": 33,
     "metadata": {},
     "output_type": "execute_result"
    }
   ],
   "source": [
    "llm.invoke(\"where is taj mahal?\").content"
   ]
  },
  {
   "cell_type": "code",
   "execution_count": null,
   "id": "05468958",
   "metadata": {},
   "outputs": [],
   "source": [
    "resume=\"\"\n",
    "with open('data/job_description.txt', 'r') as file:\n",
    "    job_description=file.read()\n",
    "loader = PyPDFLoader(\"data/resume_with_capg.pdf\")\n",
    "documents = loader.load()\n",
    "for i in documents:\n",
    "    resume+=(i.page_content.strip())\n",
    "    \n",
    "with open('prompts.yaml', 'r') as file:\n",
    "    data = yaml.safe_load(file)\n",
    "    \n",
    "def intro():\n",
    "\n",
    "    \"\"\"Choose a key from the following list to use the corresponding prompt template:\"\"\"\n",
    "    print(\"*\"*100)\n",
    "    for i,j in enumerate(data.keys()):\n",
    "        print(f\"{i+1}. {j}\")\n",
    "    i=input(\"Enter the number corresponding to the key you want to use: \")\n",
    "    print(\"selected number is \",i)\n",
    "    key=list(data.keys())[int(i)-1]\n",
    "    return key\n",
    "\n",
    "def func(key):\n",
    "    prompt_template = PromptTemplate(\n",
    "        input_variables=[\"resume\", \"job_description\"],\n",
    "        template=data[key][\"prompt\"]\n",
    "    )\n",
    "    chain=prompt_template | llm\n",
    "    response=chain.invoke(data[key][\"inputs\"]).content\n",
    "    return response"
   ]
  },
  {
   "cell_type": "code",
   "execution_count": null,
   "id": "93da96c3",
   "metadata": {},
   "outputs": [],
   "source": [
    "\n"
   ]
  },
  {
   "cell_type": "code",
   "execution_count": null,
   "id": "0809b6de",
   "metadata": {},
   "outputs": [],
   "source": [
    "\n"
   ]
  },
  {
   "cell_type": "code",
   "execution_count": null,
   "id": "cfa791e3",
   "metadata": {},
   "outputs": [],
   "source": [
    "\"\"\"\n",
    "creating a tool for llm that takes user input and uses the func function to get the response\n",
    "\n",
    "\n",
    "\"\"\"\n",
    "\n",
    "@tool\n",
    "def get_response(resume: str, job_description: str) -> str: \n",
    "    \"\"\"\n",
    "    Use this tool to get a response based on the resume and job description.\n",
    "    \"\"\"\n",
    "    key=intro()\n",
    "    response = func(key)\n",
    "    return response\n"
   ]
  },
  {
   "cell_type": "code",
   "execution_count": null,
   "id": "dedd51ca",
   "metadata": {},
   "outputs": [],
   "source": []
  },
  {
   "cell_type": "code",
   "execution_count": null,
   "id": "28feb0db",
   "metadata": {},
   "outputs": [],
   "source": []
  },
  {
   "cell_type": "code",
   "execution_count": null,
   "id": "aa29c1c3",
   "metadata": {},
   "outputs": [],
   "source": []
  },
  {
   "cell_type": "code",
   "execution_count": 51,
   "id": "58def19b",
   "metadata": {},
   "outputs": [
    {
     "data": {
      "text/plain": [
       "\"Dinesh\\tSagar\\n+91-8121909150\\n\\t\\nMail\\n\\t\\nGitHub\\n\\t\\nLinkedIn\\tProfile\\nPassionate\\tData\\tScientist\\twith\\ta\\tdrive\\tto\\ttackle\\treal-world\\tchallenges\\tthrough\\tdata\\tanalysis\\tand\\tmachine\\tlearning.\\nCommitted\\tto\\textracting\\tvalue\\tfrom\\tcomplex\\tdata\\tand\\tdelivering\\tactionable\\tinsights\\tto\\tinform\\tbusiness\\tdecisions\\t\\nand\\ndrive\\tgrowth.\\tEager\\tto\\tcontinuously\\tlearn\\tand\\timprove\\tto\\tdeliver\\timpactful\\tsolutions.\\nExperience\\nCapgemini\\nConsultant\\nFEB\\t2025-\\tPRESENT\\nAmazon\\tDevelopment\\tCentre\\tIndia\\nQuality\\tSpecialist\\nJAN\\t2020\\t-\\tDEC\\t2024\\nImplemented\\tan\\toutlier\\tdetection\\tprogram\\tto\\nenhance\\taddress\\tdata\\tquality,\\timproving\\tlogistics\\nperformance\\tfor\\tAmazon\\tLogistics.\\nAnalyzed\\tlarge-scale\\tdatasets\\tusing\\tstatistical\\nmethods\\tto\\toptimize\\tdelivery\\toperations\\tand\\nresource\\tplanning.\\nBuilt\\ttime\\tseries\\tmodels\\tto\\tforecast\\tpeak\\torder\\nvolumes,\\tenabling\\tproactive\\tlogistics\\nmanagement.\\nDeveloped\\tmachine\\tlearning\\tmodels\\tto\\tevaluate\\ndelivery\\tagent\\tperformance,\\tdriving\\toperational\\nefficiency.\\nCreated\\tinteractive\\tdashboards\\tfor\\treal-time\\nmonitoring\\tand\\tactionable\\tinsights.\\nSkills\\nProgramming:\\n\\tPython,\\tSQL\\nData\\tVisualization:\\n\\tTableau,\\tPower\\tBI\\nStatistics\\t&\\tMath:\\n\\tStatistics\\tand\\tHypothesis\\nTesting,\\tNumPy,\\tPandas,\\tScikit-Learn\\nMachine\\tLearning:\\n\\tTensorFlow,\\tKeras,\\nStreamlit,\\tFlask,\\tFastAPI\\nGenerative\\tAI:\\n\\tLangChain,\\tLangGraph,\\tAWS\\nBedrock,\\tAzure\\tAI\\tFoundry,\\tAzure\\tMachine\\nLearning,\\tAWS\\tSagemaker\\nScaler\\tCertifications\\nPython\\tLibraries,\\tEDA\\tFundamentals\\nSupervised\\t&\\tUnsupervised\\tLearning\\nNatural\\tLanguage\\tProcessing,\\tComputer\\tVision\\nProjects\\nGenerative\\tAI\\tPowered\\tData\\tAssistants\\nMedical\\tRAG\\tagent:\\n\\tDeveloped\\ta\\tmedical\\tchatbot\\tusing\\nPinecone\\tDB\\tfor\\tvector\\tstorage\\tand\\tFlask\\tfor\\treal-time\\tquery\\nhandling\\tto\\tprovide\\taccurate,\\tcontext-driven\\tmedical\\nanswers.\\nRAG\\tAgent\\twith\\tChromaDB:\\n\\tDeveloped\\tan\\tintelligent\\nrecommendation\\tsystem\\tleveraging\\tChromaDB\\tfor\\treranking\\nand\\tcontent\\tdiscovery\\tbased\\ton\\tuser\\tqueries.\\nCSV\\tCommand\\tAgent:\\n\\tBuilt\\tan\\tAI-powered\\ttool\\tenabling\\nnatural\\tlanguage\\tmanipulation\\tof\\tCSV\\tfiles\\tand\\tSQL\\tquery\\ngeneration,\\tsimplifying\\tdata\\toperations\\tfor\\tnon-technical\\nusers.\\nNamed\\tEntity\\tRecognition\\t(NER)\\tin\\tTweets\\nUsing\\tLSTM+CRF\\tand\\tBERT\\tModels\\nDeveloped\\ta\\trobust\\tNamed\\tEntity\\tRecognition\\t(NER)\\tsystem\\nfor\\ttweets\\tusing\\tLSTM-CRF\\tand\\tBERT\\tmodels.\\nInitialized\\tLSTM-CRF\\twith\\tWord2Vec\\tembeddings\\tand\\tfine-\\ntuned\\tBERT\\tfor\\tentity\\tdetection.\\nExecuted\\tdata\\tpreprocessing,\\thyperparameter\\toptimization,\\nand\\tmodel\\tevaluation\\tto\\tboost\\taccuracy.\\nAchieved\\tprecise\\tentity\\trecognition\\ton\\treal-world\\ttweet\\tdata,\\nensuring\\thigh\\tmodel\\tperformance.\\nNinjacart\\tComputer\\tVision\\tProject\\nDeveloped\\ta\\tCNN-based\\tcomputer\\tvision\\tsystem\\tfor\\nNinjacart\\tto\\tidentify\\tonions,\\tpotatoes,\\ttomatoes,\\tand\\tnoise\\tin\\nproduce\\timages.\\nLeveraged\\ttransfer\\tlearning\\t(VGG,\\tResNet)\\tand\\tdata\\naugmentation,\\twith\\toptimized\\ttraining\\tvia\\tcallbacks\\tand\\nregularization\\ttechniques.\\nAchieved\\trobust\\tand\\taccurate\\tvegetable\\tclassification.\\nDelivery\\tTime\\tEstimation\\tfor\\tPorter's\\tDelivery\\nService\\nPerformed\\tcomprehensive\\tdata\\tcleaning,\\tfeature\\nengineering,\\tand\\tcategorical\\tencoding\\nDesigned,\\ttrained,\\tand\\toptimized\\ta\\tneural\\tnetwork\\tmodel\\nusing\\tTensorFlow\\tand\\tKeras\\nDelivered\\taccurate\\tdelivery\\ttime\\tpredictions,\\tenhancing\\nservice\\tquality\\tand\\toperational\\tefficiency\\nAdEase\\tWiki\\tPage\\tView\\tForecasting\\nForecasted\\tWikipedia\\tpage\\tviews\\tto\\toptimize\\tad\\tplacement\\nfor\\tAdEase\\tclients,\\tconsidering\\tregional\\tand\\tlinguistic\\nvariations.\\nApplied\\tARIMA,\\tSARIMAX,\\tand\\tProphet\\ttime\\tseries\\tmodels,\\nincorporating\\texogenous\\tcampaign\\tdata\\tfor\\tenhanced\\naccuracy.\\nImproved\\tad\\tplacement\\tstrategies\\tbased\\ton\\tpredicted\\tpage\\nview\\ttrends,\\tenabling\\tbetter\\tROI\\tand\\ttargeted\\tadvertising\\ncampaigns\\tfor\\tdiverse\\tregions.Education\\nScaler\\nData\\tScience\\tand\\tMachine\\tLearning\\n2024\\nChaitanya\\tBharathi\\tInstitute\\tof\\nTechnology\\nB.E(Mechanical)\\n2019\\nZEE\\tRecommendation\\tSystem\\nImplemented\\ta\\tmovie\\trecommender\\tsystem\\tfor\\tpersonalized\\nmovie\\tsuggestions.\\nUtilized\\tuser-user\\tand\\titem-item\\tsimilarity\\twith\\tCosine\\tand\\nPearson\\tmethods.\\nBuilt\\tcollaborative\\tfiltering\\tand\\tmatrix\\tfactorization\\tmodels\\nfor\\trecommendations.\\nEnhanced\\tuser\\texperience\\tthrough\\tdata-driven\\tmovie\\nsuggestions\\nGraduate\\tAdmissions\\tPrediction\\nAnalyzed\\tgraduate\\tadmissions\\tdata,\\tconstructed\\tprecise\\nlinear\\tregression\\tmodels\\tin\\tPython,\\tand\\tpresented\\tactionable\\ninsights\\tto\\tenhance\\tstudent\\tsuccess\\tfor\\tJamboree.\\nCreated\\tLinear\\tregression\\tmodel\\tand\\timplemented\\tRidge\\tand\\nLasso\\tregularizations\\tand\\tevaluated\\tmodel\\tmetrics\\tusing\\nsklearn\\tstats\\tlibrary.\\tIdentified\\tsignificant\\tpredictors\\t(e.g.,\\nGRE\\tscores,\\tGPA)\\tfor\\tgraduate\\tadmissions.\\nDeveloped\\taccurate\\tlinear\\tregression\\tmodels\\twith\\tR2\\tscore\\nexceeding\\t0.8.\\nDelivered\\tinsights\\tand\\trecommendations\\tfor\\timproving\\napplication\\tprofiles.\\nLoanTap\\tCreditworthiness\\tModel\\nDeveloped\\ta\\tLogistic\\tRegression\\tmodel\\tfor\\tLoanTap,\\nanalyzed\\tprecision\\tvs.\\trecall\\ttradeoffs,\\tand\\tprovided\\nactionable\\tinsights\\tfor\\tenhanced\\tloan\\tdecisions.\\nCreated\\tseveral\\tflags\\tand\\tindicators\\tbased\\ton\\tthe\\tgiven\\nfeatures\\tand\\tapplied\\ta\\tlogistic\\tregression\\tmodel\\tto\\tgenerate\\nclassification\\treport,\\tROC\\tAUC\\tcurve,\\tprecision-recall\\tcurve.\\nRevealed\\tkey\\trelationships\\tbetween\\tloan\\tstatus\\tand\\nborrower\\tattributes.\\nAchieved\\thigh\\tAUC\\tscore,\\tindicating\\tstrong\\tmodel\\nperformance.\\nProvided\\tinsights\\tinto\\tsignificant\\tpredictors\\tof\\tloan\\tdefaults,\\nleading\\tto\\timproved\\tcreditworthiness\\tassessment.\""
      ]
     },
     "execution_count": 51,
     "metadata": {},
     "output_type": "execute_result"
    }
   ],
   "source": [
    "r"
   ]
  },
  {
   "cell_type": "code",
   "execution_count": null,
   "id": "71163108",
   "metadata": {},
   "outputs": [],
   "source": []
  },
  {
   "cell_type": "code",
   "execution_count": null,
   "id": "202b075c",
   "metadata": {},
   "outputs": [],
   "source": []
  },
  {
   "cell_type": "code",
   "execution_count": null,
   "id": "68eaf4a0",
   "metadata": {},
   "outputs": [],
   "source": []
  },
  {
   "cell_type": "code",
   "execution_count": null,
   "id": "65a7c01f",
   "metadata": {},
   "outputs": [],
   "source": []
  },
  {
   "cell_type": "code",
   "execution_count": null,
   "id": "61c9e94d",
   "metadata": {},
   "outputs": [],
   "source": []
  },
  {
   "cell_type": "code",
   "execution_count": null,
   "id": "bc28657b",
   "metadata": {},
   "outputs": [],
   "source": []
  },
  {
   "cell_type": "code",
   "execution_count": null,
   "id": "67a5b2b8",
   "metadata": {},
   "outputs": [],
   "source": []
  },
  {
   "cell_type": "code",
   "execution_count": null,
   "id": "6087c605",
   "metadata": {},
   "outputs": [],
   "source": []
  },
  {
   "cell_type": "code",
   "execution_count": null,
   "id": "80d9da51",
   "metadata": {},
   "outputs": [],
   "source": []
  },
  {
   "cell_type": "code",
   "execution_count": null,
   "id": "fe53a3a2",
   "metadata": {},
   "outputs": [],
   "source": []
  },
  {
   "cell_type": "code",
   "execution_count": null,
   "id": "f2746d07",
   "metadata": {},
   "outputs": [],
   "source": []
  }
 ],
 "metadata": {
  "kernelspec": {
   "display_name": ".venv",
   "language": "python",
   "name": "python3"
  },
  "language_info": {
   "codemirror_mode": {
    "name": "ipython",
    "version": 3
   },
   "file_extension": ".py",
   "mimetype": "text/x-python",
   "name": "python",
   "nbconvert_exporter": "python",
   "pygments_lexer": "ipython3",
   "version": "3.12.1"
  }
 },
 "nbformat": 4,
 "nbformat_minor": 5
}
