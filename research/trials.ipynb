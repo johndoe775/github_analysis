{
 "cells": [
  {
   "cell_type": "code",
   "execution_count": 1,
   "id": "4c0d9468",
   "metadata": {},
   "outputs": [],
   "source": [
    "import os\n",
    "import yaml\n",
    "from dotenv import load_dotenv\n",
    "from langchain_groq import ChatGroq\n",
    "from typing import List, TypedDict, Annotated\n",
    "from langchain_community.document_loaders import PyPDFLoader\n",
    "from langchain_core.prompts import PromptTemplate\n",
    "from langchain_core.tools import tool\n",
    "\"\"\"\n",
    "from langchain.vectorstores import FAISS\n",
    "from langchain_core.graph import Graph, Node, StartNode, StopNode\n",
    "from langchain.docstore.document import Document\n",
    "from langchain_community.vectorstores import Chroma\n",
    "from langchain_community.embeddings import HuggingFaceEmbeddings\n",
    "from langchain.chains import RetrievalQA\n",
    "from langchain.prompts import PromptTemplate\n",
    "from langchain.text_splitter import RecursiveCharacterTextSplitter\n",
    "\"\"\"\n",
    "\n",
    "# Load environment variables\n",
    "load_dotenv()\n",
    "api_key = os.environ[\"groq\"]\n",
    "\n",
    "# Initialize LLM\n",
    "llm = ChatGroq(\n",
    "    model=\"llama-3.3-70b-versatile\",\n",
    "    temperature=0,\n",
    "    max_tokens=None,\n",
    "    timeout=None,\n",
    "    max_retries=2,\n",
    "    api_key=api_key\n",
    ")\n"
   ]
  },
  {
   "cell_type": "code",
   "execution_count": 2,
   "id": "b0468482",
   "metadata": {},
   "outputs": [
    {
     "data": {
      "text/plain": [
       "\"It's nice to meet you. Is there something I can help you with or would you like to chat?\""
      ]
     },
     "execution_count": 2,
     "metadata": {},
     "output_type": "execute_result"
    }
   ],
   "source": [
    "llm.invoke(\"hi\").content"
   ]
  },
  {
   "cell_type": "code",
   "execution_count": 3,
   "id": "c26187d0",
   "metadata": {},
   "outputs": [
    {
     "data": {
      "text/plain": [
       "\"The Taj Mahal is located in Agra, a city in the Indian state of Uttar Pradesh. It is situated on the southern bank of the Yamuna River, approximately 230 kilometers (143 miles) south of New Delhi, the capital city of India.\\n\\nThe exact address of the Taj Mahal is:\\nTaj Mahal, Dharmapuri, Forest Colony, Tajganj, Agra, Uttar Pradesh 282001, India\\n\\nIt's one of the most famous and iconic landmarks in India, and a popular tourist destination, attracting millions of visitors each year.\""
      ]
     },
     "execution_count": 3,
     "metadata": {},
     "output_type": "execute_result"
    }
   ],
   "source": [
    "llm.invoke(\"where is taj mahal?\").content"
   ]
  },
  {
   "cell_type": "code",
   "execution_count": 14,
   "id": "05468958",
   "metadata": {},
   "outputs": [],
   "source": [
    "resume,personal_info=\"\",\"\"\"Strategic and results-driven talent acquisition leader with a proven track record in recruiting and talent management across diverse industries. I specialize in designing and executing scalable recruitment strategies that align with organizational goals and elevate the candidate experience.\n",
    "\n",
    "With a deep understanding of data-driven hiring, I leverage analytics to streamline processes, enhance team performance, and drive informed decision-making. I’m not just focused on filling roles—I build and lead high-performing recruitment teams capable of managing high-volume, cross-functional hiring with precision and efficiency.\n",
    "\n",
    "My approach has consistently improved hiring outcomes, aligning recruitment operations with business objectives while ensuring an exceptional stakeholder experience. Backed by a strong foundation in Customer Relationship Management and Human Resources, I am passionate about delivering excellence in every aspect of talent acquisition.\"\"\"\n",
    "with open('/workspaces/github_analysis/data/job_description.txt', 'r') as file:\n",
    "    job_description=file.read()\n",
    "loader = PyPDFLoader(\"/workspaces/github_analysis/data/resume_with_capg.pdf\")\n",
    "documents = loader.load()\n",
    "for i in documents:\n",
    "    resume+=(i.page_content.strip())\n",
    "    \n",
    "with open('/workspaces/github_analysis/src/prompts.yaml', 'r') as file:\n",
    "    data = yaml.safe_load(file)\n",
    "    \n",
    "def intro():\n",
    "\n",
    "    print(\"*\"*100)\n",
    "    for i,j in enumerate(data.keys()):\n",
    "        print(f\"{i+1}. {j}\")\n",
    "def inputs():\n",
    "    i=input(\"Enter the number corresponding to the key you want to use: \")\n",
    "    print(\"selected number is \",int(i))\n",
    "    key=list(data.keys())[int(i)-1]\n",
    "    return key\n",
    "\n",
    "def func(key):\n",
    "    input_variables=list(data[key][\"inputs\"].keys())\n",
    "    template=data[key][\"prompt\"].format(resume=resume, job_description=job_description,personal_info=personal_info)\n",
    "    prompt_template = PromptTemplate(\n",
    "        input_variables=input_variables,\n",
    "        template=template\n",
    "    )\n",
    "    print(prompt_template,input_variables)\n",
    "    chain=prompt_template | llm\n",
    "    response=chain.invoke(data[key][\"inputs\"]).content\n",
    "    return response"
   ]
  },
  {
   "cell_type": "code",
   "execution_count": 13,
   "id": "93da96c3",
   "metadata": {},
   "outputs": [
    {
     "name": "stdout",
     "output_type": "stream",
     "text": [
      "****************************************************************************************************\n",
      "1. resume_and_job_decription_rewrite\n",
      "2. cold_mail_and_person_info\n",
      "3. cold_mail_no_personal_info\n"
     ]
    }
   ],
   "source": [
    "intro()\n"
   ]
  },
  {
   "cell_type": "code",
   "execution_count": 10,
   "id": "0809b6de",
   "metadata": {},
   "outputs": [
    {
     "name": "stdout",
     "output_type": "stream",
     "text": [
      "selected number is  2\n"
     ]
    }
   ],
   "source": [
    "x=inputs()"
   ]
  },
  {
   "cell_type": "code",
   "execution_count": 11,
   "id": "58369e0d",
   "metadata": {},
   "outputs": [
    {
     "name": "stdout",
     "output_type": "stream",
     "text": [
      "input_variables=[] input_types={} partial_variables={} template='\"\"\"\\nUsing the following resume, write a professional and inquisitive cold mail tailored to the provided person\\'s information, seeking job opportunities:\\n\\nResume: Dinesh\\tSagar\\n+91-8121909150\\n\\t\\nMail\\n\\t\\nGitHub\\n\\t\\nLinkedIn\\tProfile\\nPassionate\\tData\\tScientist\\twith\\ta\\tdrive\\tto\\ttackle\\treal-world\\tchallenges\\tthrough\\tdata\\tanalysis\\tand\\tmachine\\tlearning.\\nCommitted\\tto\\textracting\\tvalue\\tfrom\\tcomplex\\tdata\\tand\\tdelivering\\tactionable\\tinsights\\tto\\tinform\\tbusiness\\tdecisions\\t\\nand\\ndrive\\tgrowth.\\tEager\\tto\\tcontinuously\\tlearn\\tand\\timprove\\tto\\tdeliver\\timpactful\\tsolutions.\\nExperience\\nCapgemini\\nConsultant\\nFEB\\t2025-\\tPRESENT\\nAmazon\\tDevelopment\\tCentre\\tIndia\\nQuality\\tSpecialist\\nJAN\\t2020\\t-\\tDEC\\t2024\\nImplemented\\tan\\toutlier\\tdetection\\tprogram\\tto\\nenhance\\taddress\\tdata\\tquality,\\timproving\\tlogistics\\nperformance\\tfor\\tAmazon\\tLogistics.\\nAnalyzed\\tlarge-scale\\tdatasets\\tusing\\tstatistical\\nmethods\\tto\\toptimize\\tdelivery\\toperations\\tand\\nresource\\tplanning.\\nBuilt\\ttime\\tseries\\tmodels\\tto\\tforecast\\tpeak\\torder\\nvolumes,\\tenabling\\tproactive\\tlogistics\\nmanagement.\\nDeveloped\\tmachine\\tlearning\\tmodels\\tto\\tevaluate\\ndelivery\\tagent\\tperformance,\\tdriving\\toperational\\nefficiency.\\nCreated\\tinteractive\\tdashboards\\tfor\\treal-time\\nmonitoring\\tand\\tactionable\\tinsights.\\nSkills\\nProgramming:\\n\\tPython,\\tSQL\\nData\\tVisualization:\\n\\tTableau,\\tPower\\tBI\\nStatistics\\t&\\tMath:\\n\\tStatistics\\tand\\tHypothesis\\nTesting,\\tNumPy,\\tPandas,\\tScikit-Learn\\nMachine\\tLearning:\\n\\tTensorFlow,\\tKeras,\\nStreamlit,\\tFlask,\\tFastAPI\\nGenerative\\tAI:\\n\\tLangChain,\\tLangGraph,\\tAWS\\nBedrock,\\tAzure\\tAI\\tFoundry,\\tAzure\\tMachine\\nLearning,\\tAWS\\tSagemaker\\nScaler\\tCertifications\\nPython\\tLibraries,\\tEDA\\tFundamentals\\nSupervised\\t&\\tUnsupervised\\tLearning\\nNatural\\tLanguage\\tProcessing,\\tComputer\\tVision\\nProjects\\nGenerative\\tAI\\tPowered\\tData\\tAssistants\\nMedical\\tRAG\\tagent:\\n\\tDeveloped\\ta\\tmedical\\tchatbot\\tusing\\nPinecone\\tDB\\tfor\\tvector\\tstorage\\tand\\tFlask\\tfor\\treal-time\\tquery\\nhandling\\tto\\tprovide\\taccurate,\\tcontext-driven\\tmedical\\nanswers.\\nRAG\\tAgent\\twith\\tChromaDB:\\n\\tDeveloped\\tan\\tintelligent\\nrecommendation\\tsystem\\tleveraging\\tChromaDB\\tfor\\treranking\\nand\\tcontent\\tdiscovery\\tbased\\ton\\tuser\\tqueries.\\nCSV\\tCommand\\tAgent:\\n\\tBuilt\\tan\\tAI-powered\\ttool\\tenabling\\nnatural\\tlanguage\\tmanipulation\\tof\\tCSV\\tfiles\\tand\\tSQL\\tquery\\ngeneration,\\tsimplifying\\tdata\\toperations\\tfor\\tnon-technical\\nusers.\\nNamed\\tEntity\\tRecognition\\t(NER)\\tin\\tTweets\\nUsing\\tLSTM+CRF\\tand\\tBERT\\tModels\\nDeveloped\\ta\\trobust\\tNamed\\tEntity\\tRecognition\\t(NER)\\tsystem\\nfor\\ttweets\\tusing\\tLSTM-CRF\\tand\\tBERT\\tmodels.\\nInitialized\\tLSTM-CRF\\twith\\tWord2Vec\\tembeddings\\tand\\tfine-\\ntuned\\tBERT\\tfor\\tentity\\tdetection.\\nExecuted\\tdata\\tpreprocessing,\\thyperparameter\\toptimization,\\nand\\tmodel\\tevaluation\\tto\\tboost\\taccuracy.\\nAchieved\\tprecise\\tentity\\trecognition\\ton\\treal-world\\ttweet\\tdata,\\nensuring\\thigh\\tmodel\\tperformance.\\nNinjacart\\tComputer\\tVision\\tProject\\nDeveloped\\ta\\tCNN-based\\tcomputer\\tvision\\tsystem\\tfor\\nNinjacart\\tto\\tidentify\\tonions,\\tpotatoes,\\ttomatoes,\\tand\\tnoise\\tin\\nproduce\\timages.\\nLeveraged\\ttransfer\\tlearning\\t(VGG,\\tResNet)\\tand\\tdata\\naugmentation,\\twith\\toptimized\\ttraining\\tvia\\tcallbacks\\tand\\nregularization\\ttechniques.\\nAchieved\\trobust\\tand\\taccurate\\tvegetable\\tclassification.\\nDelivery\\tTime\\tEstimation\\tfor\\tPorter\\'s\\tDelivery\\nService\\nPerformed\\tcomprehensive\\tdata\\tcleaning,\\tfeature\\nengineering,\\tand\\tcategorical\\tencoding\\nDesigned,\\ttrained,\\tand\\toptimized\\ta\\tneural\\tnetwork\\tmodel\\nusing\\tTensorFlow\\tand\\tKeras\\nDelivered\\taccurate\\tdelivery\\ttime\\tpredictions,\\tenhancing\\nservice\\tquality\\tand\\toperational\\tefficiency\\nAdEase\\tWiki\\tPage\\tView\\tForecasting\\nForecasted\\tWikipedia\\tpage\\tviews\\tto\\toptimize\\tad\\tplacement\\nfor\\tAdEase\\tclients,\\tconsidering\\tregional\\tand\\tlinguistic\\nvariations.\\nApplied\\tARIMA,\\tSARIMAX,\\tand\\tProphet\\ttime\\tseries\\tmodels,\\nincorporating\\texogenous\\tcampaign\\tdata\\tfor\\tenhanced\\naccuracy.\\nImproved\\tad\\tplacement\\tstrategies\\tbased\\ton\\tpredicted\\tpage\\nview\\ttrends,\\tenabling\\tbetter\\tROI\\tand\\ttargeted\\tadvertising\\ncampaigns\\tfor\\tdiverse\\tregions.Education\\nScaler\\nData\\tScience\\tand\\tMachine\\tLearning\\n2024\\nChaitanya\\tBharathi\\tInstitute\\tof\\nTechnology\\nB.E(Mechanical)\\n2019\\nZEE\\tRecommendation\\tSystem\\nImplemented\\ta\\tmovie\\trecommender\\tsystem\\tfor\\tpersonalized\\nmovie\\tsuggestions.\\nUtilized\\tuser-user\\tand\\titem-item\\tsimilarity\\twith\\tCosine\\tand\\nPearson\\tmethods.\\nBuilt\\tcollaborative\\tfiltering\\tand\\tmatrix\\tfactorization\\tmodels\\nfor\\trecommendations.\\nEnhanced\\tuser\\texperience\\tthrough\\tdata-driven\\tmovie\\nsuggestions\\nGraduate\\tAdmissions\\tPrediction\\nAnalyzed\\tgraduate\\tadmissions\\tdata,\\tconstructed\\tprecise\\nlinear\\tregression\\tmodels\\tin\\tPython,\\tand\\tpresented\\tactionable\\ninsights\\tto\\tenhance\\tstudent\\tsuccess\\tfor\\tJamboree.\\nCreated\\tLinear\\tregression\\tmodel\\tand\\timplemented\\tRidge\\tand\\nLasso\\tregularizations\\tand\\tevaluated\\tmodel\\tmetrics\\tusing\\nsklearn\\tstats\\tlibrary.\\tIdentified\\tsignificant\\tpredictors\\t(e.g.,\\nGRE\\tscores,\\tGPA)\\tfor\\tgraduate\\tadmissions.\\nDeveloped\\taccurate\\tlinear\\tregression\\tmodels\\twith\\tR2\\tscore\\nexceeding\\t0.8.\\nDelivered\\tinsights\\tand\\trecommendations\\tfor\\timproving\\napplication\\tprofiles.\\nLoanTap\\tCreditworthiness\\tModel\\nDeveloped\\ta\\tLogistic\\tRegression\\tmodel\\tfor\\tLoanTap,\\nanalyzed\\tprecision\\tvs.\\trecall\\ttradeoffs,\\tand\\tprovided\\nactionable\\tinsights\\tfor\\tenhanced\\tloan\\tdecisions.\\nCreated\\tseveral\\tflags\\tand\\tindicators\\tbased\\ton\\tthe\\tgiven\\nfeatures\\tand\\tapplied\\ta\\tlogistic\\tregression\\tmodel\\tto\\tgenerate\\nclassification\\treport,\\tROC\\tAUC\\tcurve,\\tprecision-recall\\tcurve.\\nRevealed\\tkey\\trelationships\\tbetween\\tloan\\tstatus\\tand\\nborrower\\tattributes.\\nAchieved\\thigh\\tAUC\\tscore,\\tindicating\\tstrong\\tmodel\\nperformance.\\nProvided\\tinsights\\tinto\\tsignificant\\tpredictors\\tof\\tloan\\tdefaults,\\nleading\\tto\\timproved\\tcreditworthiness\\tassessment.\\n\\nPerson Information: Strategic and results-driven talent acquisition leader with a proven track record in recruiting and talent management across diverse industries. I specialize in designing and executing scalable recruitment strategies that align with organizational goals and elevate the candidate experience.\\n\\nWith a deep understanding of data-driven hiring, I leverage analytics to streamline processes, enhance team performance, and drive informed decision-making. I’m not just focused on filling roles—I build and lead high-performing recruitment teams capable of managing high-volume, cross-functional hiring with precision and efficiency.\\n\\nMy approach has consistently improved hiring outcomes, aligning recruitment operations with business objectives while ensuring an exceptional stakeholder experience. Backed by a strong foundation in Customer Relationship Management and Human Resources, I am passionate about delivering excellence in every aspect of talent acquisition.\\n\\nInstructions:\\n1) Use the available experience, projects, and skills from the resume to write the cold mail.\\n2) The tone must be professional and inquisitive, seeking job opportunities.\\n3) Don\\'t hallucinate.\\n4) Don\\'t use any external data but only the resume and person information.\\n5) Don\\'t mention any comments and preamble in the response.\\n\"\"\"\\n' ['resume', 'personal_info']\n",
      "Subject: Exploring Opportunities in Data Science and Machine Learning\n",
      "\n",
      "Dear [Person's Name],\n",
      "\n",
      "I came across your profile and was impressed by your expertise in strategic talent acquisition and recruitment strategy development. As a passionate Data Scientist with a drive to tackle real-world challenges through data analysis and machine learning, I am excited to explore potential opportunities that align with your organization's goals.\n",
      "\n",
      "With experience in implementing outlier detection programs, analyzing large-scale datasets, and building time series models to forecast peak order volumes, I am confident in my ability to deliver impactful solutions. My skills in programming languages such as Python, SQL, and machine learning frameworks like TensorFlow, Keras, and Scikit-Learn enable me to drive operational efficiency and inform business decisions.\n",
      "\n",
      "I am particularly drawn to your expertise in data-driven hiring and talent management, and I believe my experience in developing predictive models, such as the LoanTap Creditworthiness Model and the Graduate Admissions Prediction model, could be valuable in streamlining recruitment processes and enhancing team performance.\n",
      "\n",
      "Some of my notable projects include the development of a medical chatbot using Pinecone DB and Flask, a recommendation system leveraging ChromaDB, and a computer vision system for vegetable classification. I am eager to discuss how my skills and experience can contribute to your organization's success.\n",
      "\n",
      "I would appreciate the opportunity to discuss potential job opportunities and explore how my expertise in data science and machine learning can support your organization's goals. Please let me know if we can schedule a conversation to further discuss this.\n",
      "\n",
      "Thank you for considering my inquiry, and I look forward to the possibility of working together.\n",
      "\n",
      "Best regards,\n",
      "Dinesh Sagar\n"
     ]
    }
   ],
   "source": [
    "print(func(x))"
   ]
  },
  {
   "cell_type": "code",
   "execution_count": null,
   "id": "6b850fa8",
   "metadata": {},
   "outputs": [],
   "source": []
  },
  {
   "cell_type": "code",
   "execution_count": null,
   "id": "71163108",
   "metadata": {},
   "outputs": [],
   "source": []
  },
  {
   "cell_type": "code",
   "execution_count": null,
   "id": "202b075c",
   "metadata": {},
   "outputs": [],
   "source": []
  },
  {
   "cell_type": "code",
   "execution_count": null,
   "id": "68eaf4a0",
   "metadata": {},
   "outputs": [],
   "source": []
  },
  {
   "cell_type": "code",
   "execution_count": null,
   "id": "65a7c01f",
   "metadata": {},
   "outputs": [],
   "source": []
  },
  {
   "cell_type": "code",
   "execution_count": null,
   "id": "61c9e94d",
   "metadata": {},
   "outputs": [],
   "source": []
  },
  {
   "cell_type": "code",
   "execution_count": null,
   "id": "bc28657b",
   "metadata": {},
   "outputs": [],
   "source": []
  },
  {
   "cell_type": "code",
   "execution_count": null,
   "id": "67a5b2b8",
   "metadata": {},
   "outputs": [],
   "source": []
  },
  {
   "cell_type": "code",
   "execution_count": null,
   "id": "6087c605",
   "metadata": {},
   "outputs": [],
   "source": []
  },
  {
   "cell_type": "code",
   "execution_count": null,
   "id": "80d9da51",
   "metadata": {},
   "outputs": [],
   "source": []
  },
  {
   "cell_type": "code",
   "execution_count": null,
   "id": "fe53a3a2",
   "metadata": {},
   "outputs": [],
   "source": []
  },
  {
   "cell_type": "code",
   "execution_count": null,
   "id": "f2746d07",
   "metadata": {},
   "outputs": [],
   "source": []
  }
 ],
 "metadata": {
  "kernelspec": {
   "display_name": ".venv",
   "language": "python",
   "name": "python3"
  },
  "language_info": {
   "codemirror_mode": {
    "name": "ipython",
    "version": 3
   },
   "file_extension": ".py",
   "mimetype": "text/x-python",
   "name": "python",
   "nbconvert_exporter": "python",
   "pygments_lexer": "ipython3",
   "version": "3.12.1"
  }
 },
 "nbformat": 4,
 "nbformat_minor": 5
}
