{
 "cells": [
  {
   "cell_type": "code",
   "execution_count": 1,
   "id": "4c0d9468",
   "metadata": {},
   "outputs": [],
   "source": [
    "import os\n",
    "import yaml\n",
    "from dotenv import load_dotenv\n",
    "from langchain_groq import ChatGroq\n",
    "from typing import List, TypedDict, Annotated\n",
    "from langchain_community.document_loaders import PyPDFLoader\n",
    "from langchain_core.prompts import PromptTemplate\n",
    "from langchain_core.tools import tool\n",
    "\"\"\"\n",
    "from langchain.vectorstores import FAISS\n",
    "from langchain_core.graph import Graph, Node, StartNode, StopNode\n",
    "from langchain.docstore.document import Document\n",
    "from langchain_community.vectorstores import Chroma\n",
    "from langchain_community.embeddings import HuggingFaceEmbeddings\n",
    "from langchain.chains import RetrievalQA\n",
    "from langchain.prompts import PromptTemplate\n",
    "from langchain.text_splitter import RecursiveCharacterTextSplitter\n",
    "\"\"\"\n",
    "\n",
    "# Load environment variables\n",
    "load_dotenv()\n",
    "api_key = os.environ[\"groq\"]\n",
    "\n",
    "# Initialize LLM\n",
    "llm = ChatGroq(\n",
    "    model=\"llama-3.3-70b-versatile\",\n",
    "    temperature=0,\n",
    "    max_tokens=None,\n",
    "    timeout=None,\n",
    "    max_retries=2,\n",
    "    api_key=api_key\n",
    ")\n"
   ]
  },
  {
   "cell_type": "code",
   "execution_count": 2,
   "id": "b0468482",
   "metadata": {},
   "outputs": [
    {
     "data": {
      "text/plain": [
       "\"It's nice to meet you. Is there something I can help you with or would you like to chat?\""
      ]
     },
     "execution_count": 2,
     "metadata": {},
     "output_type": "execute_result"
    }
   ],
   "source": [
    "llm.invoke(\"hi\").content"
   ]
  },
  {
   "cell_type": "code",
   "execution_count": 3,
   "id": "c26187d0",
   "metadata": {},
   "outputs": [
    {
     "data": {
      "text/plain": [
       "\"The Taj Mahal is located in Agra, a city in the Indian state of Uttar Pradesh. It is situated on the southern bank of the Yamuna River, approximately 230 kilometers (143 miles) south of New Delhi, the capital city of India.\\n\\nThe exact address of the Taj Mahal is:\\n\\nTaj Mahal, Dharmapuri, Forest Colony, Tajganj, Agra, Uttar Pradesh 282001, India\\n\\nIt's one of the most famous and iconic landmarks in India, and a popular tourist destination, attracting millions of visitors each year.\""
      ]
     },
     "execution_count": 3,
     "metadata": {},
     "output_type": "execute_result"
    }
   ],
   "source": [
    "llm.invoke(\"where is taj mahal?\").content"
   ]
  },
  {
   "cell_type": "code",
   "execution_count": 24,
   "id": "05468958",
   "metadata": {},
   "outputs": [],
   "source": [
    "resume,personal_info=\"\",\"\"\"Strategic and results-driven talent acquisition leader with a proven track record in recruiting and talent management across diverse industries. I specialize in designing and executing scalable recruitment strategies that align with organizational goals and elevate the candidate experience.\n",
    "\n",
    "With a deep understanding of data-driven hiring, I leverage analytics to streamline processes, enhance team performance, and drive informed decision-making. I’m not just focused on filling roles—I build and lead high-performing recruitment teams capable of managing high-volume, cross-functional hiring with precision and efficiency.\n",
    "\n",
    "My approach has consistently improved hiring outcomes, aligning recruitment operations with business objectives while ensuring an exceptional stakeholder experience. Backed by a strong foundation in Customer Relationship Management and Human Resources, I am passionate about delivering excellence in every aspect of talent acquisition.\"\"\"\n",
    "with open('/workspaces/github_analysis/data/job_description.txt', 'r') as file:\n",
    "    job_description=file.read()\n",
    "loader = PyPDFLoader(\"/workspaces/github_analysis/data/resume_with_capg.pdf\")\n",
    "documents = loader.load()\n",
    "for i in documents:\n",
    "    resume+=(i.page_content.strip())\n",
    "    \n",
    "with open('/workspaces/github_analysis/src/prompts.yaml', 'r') as file:\n",
    "    data = yaml.safe_load(file)\n",
    "    \n",
    "def intro():\n",
    "\n",
    "    print(\"*\"*100)\n",
    "    for i,j in enumerate(data.keys()):\n",
    "        print(f\"{i+1}. {j}\")\n",
    "def inputs():\n",
    "    i=input(\"Enter the number corresponding to the key you want to use: \")\n",
    "    print(\"selected number is \",int(i))\n",
    "    key=list(data.keys())[int(i)-1]\n",
    "    return key\n",
    "\n",
    "def func(key):\n",
    "    input_variables=list(data[key][\"inputs\"].keys())\n",
    "    template=data[key][\"prompt\"].format(resume=resume, job_description=job_description,personal_info=personal_info)\n",
    "    prompt_template = PromptTemplate(\n",
    "        input_variables=input_variables,\n",
    "        template=template\n",
    "    )\n",
    "    print(prompt_template,input_variables)\n",
    "    chain=prompt_template | llm\n",
    "    response=chain.invoke(data[key][\"inputs\"]).content\n",
    "    return response"
   ]
  },
  {
   "cell_type": "code",
   "execution_count": 5,
   "id": "93da96c3",
   "metadata": {},
   "outputs": [
    {
     "name": "stdout",
     "output_type": "stream",
     "text": [
      "****************************************************************************************************\n",
      "1. resume_and_job_decription_rewrite\n",
      "2. cold_mail_and_person_info\n",
      "3. cold_mail_no_personal_info\n"
     ]
    }
   ],
   "source": [
    "intro()\n"
   ]
  },
  {
   "cell_type": "code",
   "execution_count": 25,
   "id": "0809b6de",
   "metadata": {},
   "outputs": [
    {
     "name": "stdout",
     "output_type": "stream",
     "text": [
      "selected number is  2\n"
     ]
    }
   ],
   "source": [
    "x=inputs()"
   ]
  },
  {
   "cell_type": "code",
   "execution_count": 26,
   "id": "58369e0d",
   "metadata": {},
   "outputs": [
    {
     "name": "stdout",
     "output_type": "stream",
     "text": [
      "input_variables=[] input_types={} partial_variables={} template='\"\"\"\\nUsing the following resume, write a professional and inquisitive cold mail tailored to the provided person\\'s information, seeking job opportunities:\\n\\nResume: Dinesh\\tSagar\\n+91-8121909150\\n\\t\\nMail\\n\\t\\nGitHub\\n\\t\\nLinkedIn\\tProfile\\nPassionate\\tData\\tScientist\\twith\\ta\\tdrive\\tto\\ttackle\\treal-world\\tchallenges\\tthrough\\tdata\\tanalysis\\tand\\tmachine\\tlearning.\\nCommitted\\tto\\textracting\\tvalue\\tfrom\\tcomplex\\tdata\\tand\\tdelivering\\tactionable\\tinsights\\tto\\tinform\\tbusiness\\tdecisions\\t\\nand\\ndrive\\tgrowth.\\tEager\\tto\\tcontinuously\\tlearn\\tand\\timprove\\tto\\tdeliver\\timpactful\\tsolutions.\\nExperience\\nCapgemini\\nConsultant\\nFEB\\t2025-\\tPRESENT\\nAmazon\\tDevelopment\\tCentre\\tIndia\\nQuality\\tSpecialist\\nJAN\\t2020\\t-\\tDEC\\t2024\\nImplemented\\tan\\toutlier\\tdetection\\tprogram\\tto\\nenhance\\taddress\\tdata\\tquality,\\timproving\\tlogistics\\nperformance\\tfor\\tAmazon\\tLogistics.\\nAnalyzed\\tlarge-scale\\tdatasets\\tusing\\tstatistical\\nmethods\\tto\\toptimize\\tdelivery\\toperations\\tand\\nresource\\tplanning.\\nBuilt\\ttime\\tseries\\tmodels\\tto\\tforecast\\tpeak\\torder\\nvolumes,\\tenabling\\tproactive\\tlogistics\\nmanagement.\\nDeveloped\\tmachine\\tlearning\\tmodels\\tto\\tevaluate\\ndelivery\\tagent\\tperformance,\\tdriving\\toperational\\nefficiency.\\nCreated\\tinteractive\\tdashboards\\tfor\\treal-time\\nmonitoring\\tand\\tactionable\\tinsights.\\nSkills\\nProgramming:\\n\\tPython,\\tSQL\\nData\\tVisualization:\\n\\tTableau,\\tPower\\tBI\\nStatistics\\t&\\tMath:\\n\\tStatistics\\tand\\tHypothesis\\nTesting,\\tNumPy,\\tPandas,\\tScikit-Learn\\nMachine\\tLearning:\\n\\tTensorFlow,\\tKeras,\\nStreamlit,\\tFlask,\\tFastAPI\\nGenerative\\tAI:\\n\\tLangChain,\\tLangGraph,\\tAWS\\nBedrock,\\tAzure\\tAI\\tFoundry,\\tAzure\\tMachine\\nLearning,\\tAWS\\tSagemaker\\nScaler\\tCertifications\\nPython\\tLibraries,\\tEDA\\tFundamentals\\nSupervised\\t&\\tUnsupervised\\tLearning\\nNatural\\tLanguage\\tProcessing,\\tComputer\\tVision\\nProjects\\nGenerative\\tAI\\tPowered\\tData\\tAssistants\\nMedical\\tRAG\\tagent:\\n\\tDeveloped\\ta\\tmedical\\tchatbot\\tusing\\nPinecone\\tDB\\tfor\\tvector\\tstorage\\tand\\tFlask\\tfor\\treal-time\\tquery\\nhandling\\tto\\tprovide\\taccurate,\\tcontext-driven\\tmedical\\nanswers.\\nRAG\\tAgent\\twith\\tChromaDB:\\n\\tDeveloped\\tan\\tintelligent\\nrecommendation\\tsystem\\tleveraging\\tChromaDB\\tfor\\treranking\\nand\\tcontent\\tdiscovery\\tbased\\ton\\tuser\\tqueries.\\nCSV\\tCommand\\tAgent:\\n\\tBuilt\\tan\\tAI-powered\\ttool\\tenabling\\nnatural\\tlanguage\\tmanipulation\\tof\\tCSV\\tfiles\\tand\\tSQL\\tquery\\ngeneration,\\tsimplifying\\tdata\\toperations\\tfor\\tnon-technical\\nusers.\\nNamed\\tEntity\\tRecognition\\t(NER)\\tin\\tTweets\\nUsing\\tLSTM+CRF\\tand\\tBERT\\tModels\\nDeveloped\\ta\\trobust\\tNamed\\tEntity\\tRecognition\\t(NER)\\tsystem\\nfor\\ttweets\\tusing\\tLSTM-CRF\\tand\\tBERT\\tmodels.\\nInitialized\\tLSTM-CRF\\twith\\tWord2Vec\\tembeddings\\tand\\tfine-\\ntuned\\tBERT\\tfor\\tentity\\tdetection.\\nExecuted\\tdata\\tpreprocessing,\\thyperparameter\\toptimization,\\nand\\tmodel\\tevaluation\\tto\\tboost\\taccuracy.\\nAchieved\\tprecise\\tentity\\trecognition\\ton\\treal-world\\ttweet\\tdata,\\nensuring\\thigh\\tmodel\\tperformance.\\nNinjacart\\tComputer\\tVision\\tProject\\nDeveloped\\ta\\tCNN-based\\tcomputer\\tvision\\tsystem\\tfor\\nNinjacart\\tto\\tidentify\\tonions,\\tpotatoes,\\ttomatoes,\\tand\\tnoise\\tin\\nproduce\\timages.\\nLeveraged\\ttransfer\\tlearning\\t(VGG,\\tResNet)\\tand\\tdata\\naugmentation,\\twith\\toptimized\\ttraining\\tvia\\tcallbacks\\tand\\nregularization\\ttechniques.\\nAchieved\\trobust\\tand\\taccurate\\tvegetable\\tclassification.\\nDelivery\\tTime\\tEstimation\\tfor\\tPorter\\'s\\tDelivery\\nService\\nPerformed\\tcomprehensive\\tdata\\tcleaning,\\tfeature\\nengineering,\\tand\\tcategorical\\tencoding\\nDesigned,\\ttrained,\\tand\\toptimized\\ta\\tneural\\tnetwork\\tmodel\\nusing\\tTensorFlow\\tand\\tKeras\\nDelivered\\taccurate\\tdelivery\\ttime\\tpredictions,\\tenhancing\\nservice\\tquality\\tand\\toperational\\tefficiency\\nAdEase\\tWiki\\tPage\\tView\\tForecasting\\nForecasted\\tWikipedia\\tpage\\tviews\\tto\\toptimize\\tad\\tplacement\\nfor\\tAdEase\\tclients,\\tconsidering\\tregional\\tand\\tlinguistic\\nvariations.\\nApplied\\tARIMA,\\tSARIMAX,\\tand\\tProphet\\ttime\\tseries\\tmodels,\\nincorporating\\texogenous\\tcampaign\\tdata\\tfor\\tenhanced\\naccuracy.\\nImproved\\tad\\tplacement\\tstrategies\\tbased\\ton\\tpredicted\\tpage\\nview\\ttrends,\\tenabling\\tbetter\\tROI\\tand\\ttargeted\\tadvertising\\ncampaigns\\tfor\\tdiverse\\tregions.Education\\nScaler\\nData\\tScience\\tand\\tMachine\\tLearning\\n2024\\nChaitanya\\tBharathi\\tInstitute\\tof\\nTechnology\\nB.E(Mechanical)\\n2019\\nZEE\\tRecommendation\\tSystem\\nImplemented\\ta\\tmovie\\trecommender\\tsystem\\tfor\\tpersonalized\\nmovie\\tsuggestions.\\nUtilized\\tuser-user\\tand\\titem-item\\tsimilarity\\twith\\tCosine\\tand\\nPearson\\tmethods.\\nBuilt\\tcollaborative\\tfiltering\\tand\\tmatrix\\tfactorization\\tmodels\\nfor\\trecommendations.\\nEnhanced\\tuser\\texperience\\tthrough\\tdata-driven\\tmovie\\nsuggestions\\nGraduate\\tAdmissions\\tPrediction\\nAnalyzed\\tgraduate\\tadmissions\\tdata,\\tconstructed\\tprecise\\nlinear\\tregression\\tmodels\\tin\\tPython,\\tand\\tpresented\\tactionable\\ninsights\\tto\\tenhance\\tstudent\\tsuccess\\tfor\\tJamboree.\\nCreated\\tLinear\\tregression\\tmodel\\tand\\timplemented\\tRidge\\tand\\nLasso\\tregularizations\\tand\\tevaluated\\tmodel\\tmetrics\\tusing\\nsklearn\\tstats\\tlibrary.\\tIdentified\\tsignificant\\tpredictors\\t(e.g.,\\nGRE\\tscores,\\tGPA)\\tfor\\tgraduate\\tadmissions.\\nDeveloped\\taccurate\\tlinear\\tregression\\tmodels\\twith\\tR2\\tscore\\nexceeding\\t0.8.\\nDelivered\\tinsights\\tand\\trecommendations\\tfor\\timproving\\napplication\\tprofiles.\\nLoanTap\\tCreditworthiness\\tModel\\nDeveloped\\ta\\tLogistic\\tRegression\\tmodel\\tfor\\tLoanTap,\\nanalyzed\\tprecision\\tvs.\\trecall\\ttradeoffs,\\tand\\tprovided\\nactionable\\tinsights\\tfor\\tenhanced\\tloan\\tdecisions.\\nCreated\\tseveral\\tflags\\tand\\tindicators\\tbased\\ton\\tthe\\tgiven\\nfeatures\\tand\\tapplied\\ta\\tlogistic\\tregression\\tmodel\\tto\\tgenerate\\nclassification\\treport,\\tROC\\tAUC\\tcurve,\\tprecision-recall\\tcurve.\\nRevealed\\tkey\\trelationships\\tbetween\\tloan\\tstatus\\tand\\nborrower\\tattributes.\\nAchieved\\thigh\\tAUC\\tscore,\\tindicating\\tstrong\\tmodel\\nperformance.\\nProvided\\tinsights\\tinto\\tsignificant\\tpredictors\\tof\\tloan\\tdefaults,\\nleading\\tto\\timproved\\tcreditworthiness\\tassessment.\\n\\nPerson Information: Strategic and results-driven talent acquisition leader with a proven track record in recruiting and talent management across diverse industries. I specialize in designing and executing scalable recruitment strategies that align with organizational goals and elevate the candidate experience.\\n\\nWith a deep understanding of data-driven hiring, I leverage analytics to streamline processes, enhance team performance, and drive informed decision-making. I’m not just focused on filling roles—I build and lead high-performing recruitment teams capable of managing high-volume, cross-functional hiring with precision and efficiency.\\n\\nMy approach has consistently improved hiring outcomes, aligning recruitment operations with business objectives while ensuring an exceptional stakeholder experience. Backed by a strong foundation in Customer Relationship Management and Human Resources, I am passionate about delivering excellence in every aspect of talent acquisition.\\n\\nInstructions:\\n0) write in first person.\\n1) Use the available experience, projects, and skills from the resume to write the cold mail.\\n2) The tone must be professional and inquisitive, seeking job opportunities.\\n3) Don\\'t hallucinate.\\n4) Don\\'t use any external data but only the resume and person information.\\n5) Don\\'t mention any comments and preamble in the response.\\n6) Make sure that the entire message is conveyed in not more than 5 lines.\\n7) End with regards.\\n\"\"\"\\n' ['resume', 'personal_info']\n",
      "I'm a passionate Data Scientist with experience in machine learning and data analysis, having worked on projects like Generative AI Powered Data Assistants and Medical RAG agent. I'm eager to leverage my skills in Python, TensorFlow, and Keras to drive business growth. I'm interested in exploring opportunities with your organization. Can we discuss potential openings? \n",
      "Regards\n"
     ]
    }
   ],
   "source": [
    "print(func(x))"
   ]
  },
  {
   "cell_type": "code",
   "execution_count": 7,
   "id": "6b850fa8",
   "metadata": {},
   "outputs": [],
   "source": [
    "import os"
   ]
  },
  {
   "cell_type": "code",
   "execution_count": 8,
   "id": "71163108",
   "metadata": {},
   "outputs": [
    {
     "data": {
      "text/plain": [
       "'/workspaces/github_analysis/research'"
      ]
     },
     "execution_count": 8,
     "metadata": {},
     "output_type": "execute_result"
    }
   ],
   "source": [
    "os.getcwd()"
   ]
  },
  {
   "cell_type": "code",
   "execution_count": 19,
   "id": "202b075c",
   "metadata": {},
   "outputs": [],
   "source": [
    "os.chdir(\"/workspaces/github_analysis/\")\n",
    "from src.helpers import *"
   ]
  },
  {
   "cell_type": "code",
   "execution_count": 23,
   "id": "68eaf4a0",
   "metadata": {},
   "outputs": [
    {
     "data": {
      "text/plain": [
       "{'resume_and_job_decription_rewrite': {'tool_use_case': 'use this tool to rewrite a resume based on a job description provided.',\n",
       "  'prompt': '\"\"\"\\nRewrite the following resume to match the job description provided:\\n\\nResume: {resume}\\n\\nJob Description: {job_description}\\n\\nInstructions:\\n1) Use the available experience, projects, and skills to rewrite the resume.\\n2) Don\\'t Halucinate.\\n3) Don\\'t use any external data but only the resume and job description.\\n4) Don\\'t mention any comments and preamble in the response.\\n\"\"\"\\n',\n",
       "  'inputs': {'resume': 'resume', 'job_description': 'job_description'}},\n",
       " 'cold_mail_and_person_info': {'tool_use_case': \"use this tool to write a professional and inquisitive cold mail tailored to a person's information, seeking job opportunities.\",\n",
       "  'prompt': '\"\"\"\\nUsing the following resume, write a professional and inquisitive cold mail tailored to the provided person\\'s information, seeking job opportunities:\\n\\nResume: {resume}\\n\\nPerson Information: {personal_info}\\n\\nInstructions:\\n0) write in first person.\\n1) Use the available experience, projects, and skills from the resume to write the cold mail.\\n2) The tone must be professional and inquisitive, seeking job opportunities.\\n3) Don\\'t hallucinate.\\n4) Don\\'t use any external data but only the resume and person information.\\n5) Don\\'t mention any comments and preamble in the response.\\n6) Make sure that the entire message is conveyed in not more than 5 lines.\\n7) End with regards.\\n\"\"\"\\n',\n",
       "  'inputs': {'resume': 'resume', 'personal_info': 'personal_info'}},\n",
       " 'cold_mail_no_personal_info': {'tool_use_case': 'use this tool to write a generic professional and inquisitive cold mail seeking job opportunities without any personal information about the recipient.',\n",
       "  'prompt': '\"\"\"\\nUsing the following resume, write a generic professional and inquisitive cold mail seeking job opportunities. No personal information about the recipient is provided.\\n\\nResume: {resume}\\n\\nInstructions:\\n0) write in first person.\\n1) Use the available experience, projects, and skills from the resume to write the cold mail.\\n2) The tone must be professional and inquisitive, seeking job opportunities.\\n3) Don\\'t hallucinate.\\n4) Don\\'t use any external data but only the resume.\\n5) Don\\'t mention any comments and preamble in the response.\\n6) Make sure that the entire message is conveyed in not more than 5 lines.\\n7) End with regards.\\n\"\"\"\\n',\n",
       "  'inputs': {'resume': 'resume'}}}"
      ]
     },
     "execution_count": 23,
     "metadata": {},
     "output_type": "execute_result"
    }
   ],
   "source": [
    "data"
   ]
  },
  {
   "cell_type": "code",
   "execution_count": null,
   "id": "61c9e94d",
   "metadata": {},
   "outputs": [],
   "source": [
    "\"\"\"\n",
    "creating tools and binding them to the LLM\n",
    "\n",
    "\"\"\"\n",
    "\n",
    "da\n"
   ]
  },
  {
   "cell_type": "code",
   "execution_count": 26,
   "id": "bc28657b",
   "metadata": {},
   "outputs": [
    {
     "data": {
      "text/plain": [
       "dict_keys(['resume_and_job_decription_rewrite', 'cold_mail_and_person_info', 'cold_mail_no_personal_info'])"
      ]
     },
     "execution_count": 26,
     "metadata": {},
     "output_type": "execute_result"
    }
   ],
   "source": [
    "data.keys()"
   ]
  },
  {
   "cell_type": "code",
   "execution_count": null,
   "id": "67a5b2b8",
   "metadata": {},
   "outputs": [
    {
     "ename": "ValueError",
     "evalue": "Function must have a docstring if description not provided.",
     "output_type": "error",
     "traceback": [
      "\u001b[31m---------------------------------------------------------------------------\u001b[39m",
      "\u001b[31mValueError\u001b[39m                                Traceback (most recent call last)",
      "\u001b[36mCell\u001b[39m\u001b[36m \u001b[39m\u001b[32mIn[29]\u001b[39m\u001b[32m, line 23\u001b[39m\n\u001b[32m     20\u001b[39m     \u001b[38;5;28;01mreturn\u001b[39;00m tool_func\n\u001b[32m     22\u001b[39m \u001b[38;5;28;01mfor\u001b[39;00m key \u001b[38;5;129;01min\u001b[39;00m data.keys():\n\u001b[32m---> \u001b[39m\u001b[32m23\u001b[39m     \u001b[38;5;28mglobals\u001b[39m()[key] = \u001b[43mmake_tool_func\u001b[49m\u001b[43m(\u001b[49m\u001b[43mkey\u001b[49m\u001b[43m)\u001b[49m\n",
      "\u001b[36mCell\u001b[39m\u001b[36m \u001b[39m\u001b[32mIn[29]\u001b[39m\u001b[32m, line 4\u001b[39m, in \u001b[36mmake_tool_func\u001b[39m\u001b[34m(key)\u001b[39m\n\u001b[32m      3\u001b[39m \u001b[38;5;28;01mdef\u001b[39;00m\u001b[38;5;250m \u001b[39m\u001b[34mmake_tool_func\u001b[39m(key):\n\u001b[32m----> \u001b[39m\u001b[32m4\u001b[39m \u001b[43m    \u001b[49m\u001b[38;5;129;43m@tool\u001b[39;49m\n\u001b[32m      5\u001b[39m \u001b[43m    \u001b[49m\u001b[38;5;28;43;01mdef\u001b[39;49;00m\u001b[38;5;250;43m \u001b[39;49m\u001b[34;43mtool_func\u001b[39;49m\u001b[43m(\u001b[49m\u001b[43m)\u001b[49m\u001b[43m:\u001b[49m\n\u001b[32m      6\u001b[39m \u001b[38;5;250;43m        \u001b[39;49m\u001b[33;43;03m\"\"\"Description\u001b[39;49;00m\n\u001b[32m      7\u001b[39m \u001b[33;43;03m        {}\u001b[39;49;00m\n\u001b[32m      8\u001b[39m \u001b[33;43;03m        \"\"\"\u001b[39;49;00m\u001b[43m.\u001b[49m\u001b[43mformat\u001b[49m\u001b[43m(\u001b[49m\u001b[43mdata\u001b[49m\u001b[43m[\u001b[49m\u001b[43mkey\u001b[49m\u001b[43m]\u001b[49m\u001b[43m[\u001b[49m\u001b[33;43m\"\u001b[39;49m\u001b[33;43mtool_use_case\u001b[39;49m\u001b[33;43m\"\u001b[39;49m\u001b[43m]\u001b[49m\u001b[43m)\u001b[49m\n\u001b[32m      9\u001b[39m \u001b[43m        \u001b[49m\u001b[43minput_variables\u001b[49m\u001b[43m \u001b[49m\u001b[43m=\u001b[49m\u001b[43m \u001b[49m\u001b[38;5;28;43mlist\u001b[39;49m\u001b[43m(\u001b[49m\u001b[43mdata\u001b[49m\u001b[43m[\u001b[49m\u001b[43mkey\u001b[49m\u001b[43m]\u001b[49m\u001b[43m[\u001b[49m\u001b[33;43m\"\u001b[39;49m\u001b[33;43minputs\u001b[39;49m\u001b[33;43m\"\u001b[39;49m\u001b[43m]\u001b[49m\u001b[43m.\u001b[49m\u001b[43mkeys\u001b[49m\u001b[43m(\u001b[49m\u001b[43m)\u001b[49m\u001b[43m)\u001b[49m\n",
      "\u001b[36mFile \u001b[39m\u001b[32m/workspaces/github_analysis/.venv/lib/python3.12/site-packages/langchain_core/tools/convert.py:319\u001b[39m, in \u001b[36mtool\u001b[39m\u001b[34m(name_or_callable, runnable, description, return_direct, args_schema, infer_schema, response_format, parse_docstring, error_on_invalid_docstring, *args)\u001b[39m\n\u001b[32m    313\u001b[39m \u001b[38;5;28;01mif\u001b[39;00m name_or_callable \u001b[38;5;129;01mis\u001b[39;00m \u001b[38;5;129;01mnot\u001b[39;00m \u001b[38;5;28;01mNone\u001b[39;00m:\n\u001b[32m    314\u001b[39m     \u001b[38;5;28;01mif\u001b[39;00m \u001b[38;5;28mcallable\u001b[39m(name_or_callable) \u001b[38;5;129;01mand\u001b[39;00m \u001b[38;5;28mhasattr\u001b[39m(name_or_callable, \u001b[33m\"\u001b[39m\u001b[33m__name__\u001b[39m\u001b[33m\"\u001b[39m):\n\u001b[32m    315\u001b[39m         \u001b[38;5;66;03m# Used as a decorator without parameters\u001b[39;00m\n\u001b[32m    316\u001b[39m         \u001b[38;5;66;03m# @tool\u001b[39;00m\n\u001b[32m    317\u001b[39m         \u001b[38;5;66;03m# def my_tool():\u001b[39;00m\n\u001b[32m    318\u001b[39m         \u001b[38;5;66;03m#    pass\u001b[39;00m\n\u001b[32m--> \u001b[39m\u001b[32m319\u001b[39m         \u001b[38;5;28;01mreturn\u001b[39;00m \u001b[43m_create_tool_factory\u001b[49m\u001b[43m(\u001b[49m\u001b[43mname_or_callable\u001b[49m\u001b[43m.\u001b[49m\u001b[34;43m__name__\u001b[39;49m\u001b[43m)\u001b[49m\u001b[43m(\u001b[49m\u001b[43mname_or_callable\u001b[49m\u001b[43m)\u001b[49m\n\u001b[32m    320\u001b[39m     \u001b[38;5;28;01mif\u001b[39;00m \u001b[38;5;28misinstance\u001b[39m(name_or_callable, \u001b[38;5;28mstr\u001b[39m):\n\u001b[32m    321\u001b[39m         \u001b[38;5;66;03m# Used with a new name for the tool\u001b[39;00m\n\u001b[32m    322\u001b[39m         \u001b[38;5;66;03m# @tool(\"search\")\u001b[39;00m\n\u001b[32m   (...)\u001b[39m\u001b[32m    329\u001b[39m         \u001b[38;5;66;03m# def my_tool():\u001b[39;00m\n\u001b[32m    330\u001b[39m         \u001b[38;5;66;03m#    pass\u001b[39;00m\n\u001b[32m    331\u001b[39m         \u001b[38;5;28;01mreturn\u001b[39;00m _create_tool_factory(name_or_callable)\n",
      "\u001b[36mFile \u001b[39m\u001b[32m/workspaces/github_analysis/.venv/lib/python3.12/site-packages/langchain_core/tools/convert.py:264\u001b[39m, in \u001b[36mtool.<locals>._create_tool_factory.<locals>._tool_factory\u001b[39m\u001b[34m(dec_func)\u001b[39m\n\u001b[32m    261\u001b[39m     schema = args_schema\n\u001b[32m    263\u001b[39m \u001b[38;5;28;01mif\u001b[39;00m infer_schema \u001b[38;5;129;01mor\u001b[39;00m args_schema \u001b[38;5;129;01mis\u001b[39;00m \u001b[38;5;129;01mnot\u001b[39;00m \u001b[38;5;28;01mNone\u001b[39;00m:\n\u001b[32m--> \u001b[39m\u001b[32m264\u001b[39m     \u001b[38;5;28;01mreturn\u001b[39;00m \u001b[43mStructuredTool\u001b[49m\u001b[43m.\u001b[49m\u001b[43mfrom_function\u001b[49m\u001b[43m(\u001b[49m\n\u001b[32m    265\u001b[39m \u001b[43m        \u001b[49m\u001b[43mfunc\u001b[49m\u001b[43m,\u001b[49m\n\u001b[32m    266\u001b[39m \u001b[43m        \u001b[49m\u001b[43mcoroutine\u001b[49m\u001b[43m,\u001b[49m\n\u001b[32m    267\u001b[39m \u001b[43m        \u001b[49m\u001b[43mname\u001b[49m\u001b[43m=\u001b[49m\u001b[43mtool_name\u001b[49m\u001b[43m,\u001b[49m\n\u001b[32m    268\u001b[39m \u001b[43m        \u001b[49m\u001b[43mdescription\u001b[49m\u001b[43m=\u001b[49m\u001b[43mtool_description\u001b[49m\u001b[43m,\u001b[49m\n\u001b[32m    269\u001b[39m \u001b[43m        \u001b[49m\u001b[43mreturn_direct\u001b[49m\u001b[43m=\u001b[49m\u001b[43mreturn_direct\u001b[49m\u001b[43m,\u001b[49m\n\u001b[32m    270\u001b[39m \u001b[43m        \u001b[49m\u001b[43margs_schema\u001b[49m\u001b[43m=\u001b[49m\u001b[43mschema\u001b[49m\u001b[43m,\u001b[49m\n\u001b[32m    271\u001b[39m \u001b[43m        \u001b[49m\u001b[43minfer_schema\u001b[49m\u001b[43m=\u001b[49m\u001b[43minfer_schema\u001b[49m\u001b[43m,\u001b[49m\n\u001b[32m    272\u001b[39m \u001b[43m        \u001b[49m\u001b[43mresponse_format\u001b[49m\u001b[43m=\u001b[49m\u001b[43mresponse_format\u001b[49m\u001b[43m,\u001b[49m\n\u001b[32m    273\u001b[39m \u001b[43m        \u001b[49m\u001b[43mparse_docstring\u001b[49m\u001b[43m=\u001b[49m\u001b[43mparse_docstring\u001b[49m\u001b[43m,\u001b[49m\n\u001b[32m    274\u001b[39m \u001b[43m        \u001b[49m\u001b[43merror_on_invalid_docstring\u001b[49m\u001b[43m=\u001b[49m\u001b[43merror_on_invalid_docstring\u001b[49m\u001b[43m,\u001b[49m\n\u001b[32m    275\u001b[39m \u001b[43m    \u001b[49m\u001b[43m)\u001b[49m\n\u001b[32m    276\u001b[39m \u001b[38;5;66;03m# If someone doesn't want a schema applied, we must treat it as\u001b[39;00m\n\u001b[32m    277\u001b[39m \u001b[38;5;66;03m# a simple string->string function\u001b[39;00m\n\u001b[32m    278\u001b[39m \u001b[38;5;28;01mif\u001b[39;00m dec_func.\u001b[34m__doc__\u001b[39m \u001b[38;5;129;01mis\u001b[39;00m \u001b[38;5;28;01mNone\u001b[39;00m:\n",
      "\u001b[36mFile \u001b[39m\u001b[32m/workspaces/github_analysis/.venv/lib/python3.12/site-packages/langchain_core/tools/structured.py:211\u001b[39m, in \u001b[36mStructuredTool.from_function\u001b[39m\u001b[34m(cls, func, coroutine, name, description, return_direct, args_schema, infer_schema, response_format, parse_docstring, error_on_invalid_docstring, **kwargs)\u001b[39m\n\u001b[32m    209\u001b[39m \u001b[38;5;28;01mif\u001b[39;00m description_ \u001b[38;5;129;01mis\u001b[39;00m \u001b[38;5;28;01mNone\u001b[39;00m:\n\u001b[32m    210\u001b[39m     msg = \u001b[33m\"\u001b[39m\u001b[33mFunction must have a docstring if description not provided.\u001b[39m\u001b[33m\"\u001b[39m\n\u001b[32m--> \u001b[39m\u001b[32m211\u001b[39m     \u001b[38;5;28;01mraise\u001b[39;00m \u001b[38;5;167;01mValueError\u001b[39;00m(msg)\n\u001b[32m    212\u001b[39m \u001b[38;5;28;01mif\u001b[39;00m description \u001b[38;5;129;01mis\u001b[39;00m \u001b[38;5;28;01mNone\u001b[39;00m:\n\u001b[32m    213\u001b[39m     \u001b[38;5;66;03m# Only apply if using the function's docstring\u001b[39;00m\n\u001b[32m    214\u001b[39m     description_ = textwrap.dedent(description_).strip()\n",
      "\u001b[31mValueError\u001b[39m: Function must have a docstring if description not provided."
     ]
    }
   ],
   "source": [
    "from langchain_core.tools import tool\n",
    "\n",
    "def make_tool_func(key):\n",
    "    @tool\n",
    "    def tool_func():\n",
    "        \"\"\"Description\n",
    "        {}\n",
    "        \"\"\".format(data[key][\"tool_use_case\"])\n",
    "        input_variables = list(data[key][\"inputs\"].keys())\n",
    "        template = data[key][\"prompt\"].format(\n",
    "            resume=resume, job_description=job_description, personal_info=personal_info\n",
    "        )\n",
    "        prompt_template = PromptTemplate(\n",
    "            input_variables=input_variables,\n",
    "            template=template\n",
    "        )\n",
    "        chain = prompt_template | llm\n",
    "        response = chain.invoke(data[key][\"inputs\"]).content\n",
    "        return response\n",
    "    return tool_func\n",
    "\n",
    "for key in data.keys():\n",
    "    globals()[key] = make_tool_func(key)\n"
   ]
  },
  {
   "cell_type": "code",
   "execution_count": null,
   "id": "6087c605",
   "metadata": {},
   "outputs": [],
   "source": []
  },
  {
   "cell_type": "code",
   "execution_count": null,
   "id": "80d9da51",
   "metadata": {},
   "outputs": [],
   "source": []
  },
  {
   "cell_type": "code",
   "execution_count": null,
   "id": "fe53a3a2",
   "metadata": {},
   "outputs": [],
   "source": []
  },
  {
   "cell_type": "code",
   "execution_count": null,
   "id": "f2746d07",
   "metadata": {},
   "outputs": [],
   "source": []
  }
 ],
 "metadata": {
  "kernelspec": {
   "display_name": ".venv",
   "language": "python",
   "name": "python3"
  },
  "language_info": {
   "codemirror_mode": {
    "name": "ipython",
    "version": 3
   },
   "file_extension": ".py",
   "mimetype": "text/x-python",
   "name": "python",
   "nbconvert_exporter": "python",
   "pygments_lexer": "ipython3",
   "version": "3.12.1"
  }
 },
 "nbformat": 4,
 "nbformat_minor": 5
}
