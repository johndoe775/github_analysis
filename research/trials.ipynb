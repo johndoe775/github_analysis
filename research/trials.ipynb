{
 "cells": [
  {
   "cell_type": "code",
   "execution_count": 8,
   "id": "4c0d9468",
   "metadata": {},
   "outputs": [],
   "source": [
    "import os\n",
    "import yaml\n",
    "from dotenv import load_dotenv\n",
    "from langchain_groq import ChatGroq\n",
    "from typing import List, TypedDict, Annotated\n",
    "from langchain_community.document_loaders import PyPDFLoader\n",
    "from langchain_core.prompts import PromptTemplate\n",
    "from langchain_core.tools import tool\n",
    "\"\"\"\n",
    "from langchain.vectorstores import FAISS\n",
    "from langchain_core.graph import Graph, Node, StartNode, StopNode\n",
    "from langchain.docstore.document import Document\n",
    "from langchain_community.vectorstores import Chroma\n",
    "from langchain_community.embeddings import HuggingFaceEmbeddings\n",
    "from langchain.chains import RetrievalQA\n",
    "from langchain.prompts import PromptTemplate\n",
    "from langchain.text_splitter import RecursiveCharacterTextSplitter\n",
    "\"\"\"\n",
    "\n",
    "# Load environment variables\n",
    "load_dotenv()\n",
    "api_key = os.environ[\"groq\"]\n",
    "\n",
    "# Initialize LLM\n",
    "llm = ChatGroq(\n",
    "    model=\"llama-3.3-70b-versatile\",\n",
    "    temperature=0,\n",
    "    max_tokens=None,\n",
    "    timeout=None,\n",
    "    max_retries=2,\n",
    "    api_key=api_key\n",
    ")\n",
    "llm_ds= ChatGroq(\n",
    "    model=\"deepseek-r1-distill-llama-70b\",\n",
    "    temperature=0,\n",
    "    max_tokens=None,\n",
    "    reasoning_format=\"parsed\",\n",
    "    timeout=None,\n",
    "    max_retries=2,\n",
    "    api_key=api_key\n",
    "    # other params...\n",
    ")"
   ]
  },
  {
   "cell_type": "code",
   "execution_count": 10,
   "id": "b0468482",
   "metadata": {},
   "outputs": [
    {
     "data": {
      "text/plain": [
       "\"It's nice to meet you. Is there something I can help you with or would you like to chat?\""
      ]
     },
     "execution_count": 10,
     "metadata": {},
     "output_type": "execute_result"
    }
   ],
   "source": [
    "llm.invoke(\"hi\").content"
   ]
  },
  {
   "cell_type": "code",
   "execution_count": 11,
   "id": "c26187d0",
   "metadata": {},
   "outputs": [
    {
     "data": {
      "text/plain": [
       "'The Taj Mahal is located in Agra, a city in the Indian state of Uttar Pradesh. It is situated on the southern bank of the Yamuna River, approximately 230 kilometers (143 miles) south of New Delhi, the capital city of India.\\n\\nThe exact address of the Taj Mahal is:\\n\\nTaj Mahal, Dharmapuri, Forest Colony, Tajganj, Agra, Uttar Pradesh 282001, India\\n\\nIt is one of the most famous and iconic landmarks in India, and a popular tourist destination, attracting millions of visitors each year.'"
      ]
     },
     "execution_count": 11,
     "metadata": {},
     "output_type": "execute_result"
    }
   ],
   "source": [
    "llm.invoke(\"where is taj mahal?\").content"
   ]
  },
  {
   "cell_type": "code",
   "execution_count": 10,
   "id": "05468958",
   "metadata": {},
   "outputs": [],
   "source": [
    "resume,personal_info=\"\",\"\"\"As a HR Analyst and a Talent Acquisition Specialist at Deloitte, I apply my skills to support the organization's human capital strategy and goals. \n",
    "\n",
    "I also leverage my recruiting experience from my previous roles at Accenture and PwC India to source, screen, and hire qualified candidates for various positions at Deloitte, ensuring a smooth and positive candidate experience. I am passionate about finding and attracting talent that matches the organization's culture and values, and that can contribute to its growth and success. I am always eager to learn new things and explore new opportunities in the HR and data science fields.\"\"\"\n",
    "with open('/workspaces/github_analysis/data/job_description.txt', 'r') as file:\n",
    "    job_description=file.read()\n",
    "loader = PyPDFLoader(\"/workspaces/github_analysis/data/resume_with_capg.pdf\")\n",
    "documents = loader.load()\n",
    "for i in documents:\n",
    "    resume+=(i.page_content.strip())\n",
    "    \n",
    "with open('/workspaces/github_analysis/src/prompts.yaml', 'r') as file:\n",
    "    data = yaml.safe_load(file)\n",
    "    \n",
    "def intro():\n",
    "\n",
    "    print(\"*\"*100)\n",
    "    for i,j in enumerate(data.keys()):\n",
    "        print(f\"{i+1}. {j}\")\n",
    "def inputs():\n",
    "    i=input(\"Enter the number corresponding to the key you want to use: \")\n",
    "    print(\"selected number is \",int(i))\n",
    "    key=list(data.keys())[int(i)-1]\n",
    "    return key\n",
    "\n",
    "def func(key):\n",
    "    input_variables=list(data[key][\"inputs\"].keys())\n",
    "    template=data[key][\"prompt\"].format(resume=resume, job_description=job_description,personal_info=personal_info)\n",
    "    prompt_template = PromptTemplate(\n",
    "        input_variables=input_variables,\n",
    "        template=template\n",
    "    )\n",
    "    print(prompt_template,input_variables)\n",
    "    chain=prompt_template | llm\n",
    "    response=chain.invoke(data[key][\"inputs\"]).content\n",
    "    return response"
   ]
  },
  {
   "cell_type": "code",
   "execution_count": 23,
   "id": "93da96c3",
   "metadata": {},
   "outputs": [
    {
     "name": "stdout",
     "output_type": "stream",
     "text": [
      "****************************************************************************************************\n",
      "1. resume_and_job_decription_rewrite\n",
      "2. cold_mail_and_person_info\n",
      "3. cold_mail_no_personal_info\n"
     ]
    }
   ],
   "source": [
    "intro()\n"
   ]
  },
  {
   "cell_type": "code",
   "execution_count": 28,
   "id": "0809b6de",
   "metadata": {},
   "outputs": [
    {
     "name": "stdout",
     "output_type": "stream",
     "text": [
      "selected number is  2\n"
     ]
    }
   ],
   "source": [
    "x=inputs()"
   ]
  },
  {
   "cell_type": "code",
   "execution_count": 29,
   "id": "58369e0d",
   "metadata": {},
   "outputs": [
    {
     "name": "stdout",
     "output_type": "stream",
     "text": [
      "input_variables=[] input_types={} partial_variables={} template='\"\"\"\\nUsing the following resume, write a professional and inquisitive cold mail tailored to the provided person\\'s information, seeking job opportunities:\\n\\nResume: Dinesh\\tSagar\\n+91-8121909150\\n\\t\\nMail\\n\\t\\nGitHub\\n\\t\\nLinkedIn\\tProfile\\nPassionate\\tData\\tScientist\\twith\\ta\\tdrive\\tto\\ttackle\\treal-world\\tchallenges\\tthrough\\tdata\\tanalysis\\tand\\tmachine\\tlearning.\\nCommitted\\tto\\textracting\\tvalue\\tfrom\\tcomplex\\tdata\\tand\\tdelivering\\tactionable\\tinsights\\tto\\tinform\\tbusiness\\tdecisions\\t\\nand\\ndrive\\tgrowth.\\tEager\\tto\\tcontinuously\\tlearn\\tand\\timprove\\tto\\tdeliver\\timpactful\\tsolutions.\\nExperience\\nCapgemini\\nConsultant\\nFEB\\t2025-\\tPRESENT\\nAmazon\\tDevelopment\\tCentre\\tIndia\\nQuality\\tSpecialist\\nJAN\\t2020\\t-\\tDEC\\t2024\\nImplemented\\tan\\toutlier\\tdetection\\tprogram\\tto\\nenhance\\taddress\\tdata\\tquality,\\timproving\\tlogistics\\nperformance\\tfor\\tAmazon\\tLogistics.\\nAnalyzed\\tlarge-scale\\tdatasets\\tusing\\tstatistical\\nmethods\\tto\\toptimize\\tdelivery\\toperations\\tand\\nresource\\tplanning.\\nBuilt\\ttime\\tseries\\tmodels\\tto\\tforecast\\tpeak\\torder\\nvolumes,\\tenabling\\tproactive\\tlogistics\\nmanagement.\\nDeveloped\\tmachine\\tlearning\\tmodels\\tto\\tevaluate\\ndelivery\\tagent\\tperformance,\\tdriving\\toperational\\nefficiency.\\nCreated\\tinteractive\\tdashboards\\tfor\\treal-time\\nmonitoring\\tand\\tactionable\\tinsights.\\nSkills\\nProgramming:\\n\\tPython,\\tSQL\\nData\\tVisualization:\\n\\tTableau,\\tPower\\tBI\\nStatistics\\t&\\tMath:\\n\\tStatistics\\tand\\tHypothesis\\nTesting,\\tNumPy,\\tPandas,\\tScikit-Learn\\nMachine\\tLearning:\\n\\tTensorFlow,\\tKeras,\\nStreamlit,\\tFlask,\\tFastAPI\\nGenerative\\tAI:\\n\\tLangChain,\\tLangGraph,\\tAWS\\nBedrock,\\tAzure\\tAI\\tFoundry,\\tAzure\\tMachine\\nLearning,\\tAWS\\tSagemaker\\nScaler\\tCertifications\\nPython\\tLibraries,\\tEDA\\tFundamentals\\nSupervised\\t&\\tUnsupervised\\tLearning\\nNatural\\tLanguage\\tProcessing,\\tComputer\\tVision\\nProjects\\nGenerative\\tAI\\tPowered\\tData\\tAssistants\\nMedical\\tRAG\\tagent:\\n\\tDeveloped\\ta\\tmedical\\tchatbot\\tusing\\nPinecone\\tDB\\tfor\\tvector\\tstorage\\tand\\tFlask\\tfor\\treal-time\\tquery\\nhandling\\tto\\tprovide\\taccurate,\\tcontext-driven\\tmedical\\nanswers.\\nRAG\\tAgent\\twith\\tChromaDB:\\n\\tDeveloped\\tan\\tintelligent\\nrecommendation\\tsystem\\tleveraging\\tChromaDB\\tfor\\treranking\\nand\\tcontent\\tdiscovery\\tbased\\ton\\tuser\\tqueries.\\nCSV\\tCommand\\tAgent:\\n\\tBuilt\\tan\\tAI-powered\\ttool\\tenabling\\nnatural\\tlanguage\\tmanipulation\\tof\\tCSV\\tfiles\\tand\\tSQL\\tquery\\ngeneration,\\tsimplifying\\tdata\\toperations\\tfor\\tnon-technical\\nusers.\\nNamed\\tEntity\\tRecognition\\t(NER)\\tin\\tTweets\\nUsing\\tLSTM+CRF\\tand\\tBERT\\tModels\\nDeveloped\\ta\\trobust\\tNamed\\tEntity\\tRecognition\\t(NER)\\tsystem\\nfor\\ttweets\\tusing\\tLSTM-CRF\\tand\\tBERT\\tmodels.\\nInitialized\\tLSTM-CRF\\twith\\tWord2Vec\\tembeddings\\tand\\tfine-\\ntuned\\tBERT\\tfor\\tentity\\tdetection.\\nExecuted\\tdata\\tpreprocessing,\\thyperparameter\\toptimization,\\nand\\tmodel\\tevaluation\\tto\\tboost\\taccuracy.\\nAchieved\\tprecise\\tentity\\trecognition\\ton\\treal-world\\ttweet\\tdata,\\nensuring\\thigh\\tmodel\\tperformance.\\nNinjacart\\tComputer\\tVision\\tProject\\nDeveloped\\ta\\tCNN-based\\tcomputer\\tvision\\tsystem\\tfor\\nNinjacart\\tto\\tidentify\\tonions,\\tpotatoes,\\ttomatoes,\\tand\\tnoise\\tin\\nproduce\\timages.\\nLeveraged\\ttransfer\\tlearning\\t(VGG,\\tResNet)\\tand\\tdata\\naugmentation,\\twith\\toptimized\\ttraining\\tvia\\tcallbacks\\tand\\nregularization\\ttechniques.\\nAchieved\\trobust\\tand\\taccurate\\tvegetable\\tclassification.\\nDelivery\\tTime\\tEstimation\\tfor\\tPorter\\'s\\tDelivery\\nService\\nPerformed\\tcomprehensive\\tdata\\tcleaning,\\tfeature\\nengineering,\\tand\\tcategorical\\tencoding\\nDesigned,\\ttrained,\\tand\\toptimized\\ta\\tneural\\tnetwork\\tmodel\\nusing\\tTensorFlow\\tand\\tKeras\\nDelivered\\taccurate\\tdelivery\\ttime\\tpredictions,\\tenhancing\\nservice\\tquality\\tand\\toperational\\tefficiency\\nAdEase\\tWiki\\tPage\\tView\\tForecasting\\nForecasted\\tWikipedia\\tpage\\tviews\\tto\\toptimize\\tad\\tplacement\\nfor\\tAdEase\\tclients,\\tconsidering\\tregional\\tand\\tlinguistic\\nvariations.\\nApplied\\tARIMA,\\tSARIMAX,\\tand\\tProphet\\ttime\\tseries\\tmodels,\\nincorporating\\texogenous\\tcampaign\\tdata\\tfor\\tenhanced\\naccuracy.\\nImproved\\tad\\tplacement\\tstrategies\\tbased\\ton\\tpredicted\\tpage\\nview\\ttrends,\\tenabling\\tbetter\\tROI\\tand\\ttargeted\\tadvertising\\ncampaigns\\tfor\\tdiverse\\tregions.Education\\nScaler\\nData\\tScience\\tand\\tMachine\\tLearning\\n2024\\nChaitanya\\tBharathi\\tInstitute\\tof\\nTechnology\\nB.E(Mechanical)\\n2019\\nZEE\\tRecommendation\\tSystem\\nImplemented\\ta\\tmovie\\trecommender\\tsystem\\tfor\\tpersonalized\\nmovie\\tsuggestions.\\nUtilized\\tuser-user\\tand\\titem-item\\tsimilarity\\twith\\tCosine\\tand\\nPearson\\tmethods.\\nBuilt\\tcollaborative\\tfiltering\\tand\\tmatrix\\tfactorization\\tmodels\\nfor\\trecommendations.\\nEnhanced\\tuser\\texperience\\tthrough\\tdata-driven\\tmovie\\nsuggestions\\nGraduate\\tAdmissions\\tPrediction\\nAnalyzed\\tgraduate\\tadmissions\\tdata,\\tconstructed\\tprecise\\nlinear\\tregression\\tmodels\\tin\\tPython,\\tand\\tpresented\\tactionable\\ninsights\\tto\\tenhance\\tstudent\\tsuccess\\tfor\\tJamboree.\\nCreated\\tLinear\\tregression\\tmodel\\tand\\timplemented\\tRidge\\tand\\nLasso\\tregularizations\\tand\\tevaluated\\tmodel\\tmetrics\\tusing\\nsklearn\\tstats\\tlibrary.\\tIdentified\\tsignificant\\tpredictors\\t(e.g.,\\nGRE\\tscores,\\tGPA)\\tfor\\tgraduate\\tadmissions.\\nDeveloped\\taccurate\\tlinear\\tregression\\tmodels\\twith\\tR2\\tscore\\nexceeding\\t0.8.\\nDelivered\\tinsights\\tand\\trecommendations\\tfor\\timproving\\napplication\\tprofiles.\\nLoanTap\\tCreditworthiness\\tModel\\nDeveloped\\ta\\tLogistic\\tRegression\\tmodel\\tfor\\tLoanTap,\\nanalyzed\\tprecision\\tvs.\\trecall\\ttradeoffs,\\tand\\tprovided\\nactionable\\tinsights\\tfor\\tenhanced\\tloan\\tdecisions.\\nCreated\\tseveral\\tflags\\tand\\tindicators\\tbased\\ton\\tthe\\tgiven\\nfeatures\\tand\\tapplied\\ta\\tlogistic\\tregression\\tmodel\\tto\\tgenerate\\nclassification\\treport,\\tROC\\tAUC\\tcurve,\\tprecision-recall\\tcurve.\\nRevealed\\tkey\\trelationships\\tbetween\\tloan\\tstatus\\tand\\nborrower\\tattributes.\\nAchieved\\thigh\\tAUC\\tscore,\\tindicating\\tstrong\\tmodel\\nperformance.\\nProvided\\tinsights\\tinto\\tsignificant\\tpredictors\\tof\\tloan\\tdefaults,\\nleading\\tto\\timproved\\tcreditworthiness\\tassessment.\\n\\nPerson Information of the recruiter: As a HR Analyst and a Talent Acquisition Specialist at Deloitte, I apply my skills to support the organization\\'s human capital strategy and goals. \\n\\nI also leverage my recruiting experience from my previous roles at Accenture and PwC India to source, screen, and hire qualified candidates for various positions at Deloitte, ensuring a smooth and positive candidate experience. I am passionate about finding and attracting talent that matches the organization\\'s culture and values, and that can contribute to its growth and success. I am always eager to learn new things and explore new opportunities in the HR and data science fields.\\n\\nInstructions:\\n-1) Start with salutaion hi\\n0) write in first person.\\n1) Use the available experience, projects, and skills from the resume to write the cold mail.\\n2) The tone must be professional and inquisitive, seeking job opportunities.\\n3) Don\\'t hallucinate.\\n4) Don\\'t use any external data but only the resume and person information.\\n5) Don\\'t mention any comments and preamble in the response.\\n6) Make sure that the entire message is conveyed in not more than 5 lines.\\n7) End with regards and the name of ther person whose resume is being used.\\n\"\"\"\\n' ['resume', 'personal_info']\n",
      "Hi, I'm reaching out as a passionate Data Scientist with experience in machine learning and data analysis, having worked at Capgemini and Amazon. I've developed various projects, including Generative AI Powered Data Assistants and Medical RAG agents. I'm eager to explore opportunities at Deloitte, leveraging my skills in Python, TensorFlow, and data visualization. I'm excited to learn more about your team's work. \n",
      "Regards, Dinesh Sagar\n"
     ]
    }
   ],
   "source": [
    "print(func(x))"
   ]
  },
  {
   "cell_type": "code",
   "execution_count": 16,
   "id": "6b850fa8",
   "metadata": {},
   "outputs": [],
   "source": [
    "import os\n",
    "os.getcwd()\n",
    "os.chdir(\"/workspaces/github_analysis/\")\n"
   ]
  },
  {
   "cell_type": "code",
   "execution_count": 8,
   "id": "71163108",
   "metadata": {},
   "outputs": [
    {
     "data": {
      "text/plain": [
       "'/workspaces/github_analysis/research'"
      ]
     },
     "execution_count": 8,
     "metadata": {},
     "output_type": "execute_result"
    }
   ],
   "source": [
    "os.getcwd()"
   ]
  },
  {
   "cell_type": "code",
   "execution_count": 19,
   "id": "202b075c",
   "metadata": {},
   "outputs": [],
   "source": [
    "os.chdir(\"/workspaces/github_analysis/\")\n",
    "from src.helpers import *"
   ]
  },
  {
   "cell_type": "code",
   "execution_count": 17,
   "id": "68eaf4a0",
   "metadata": {},
   "outputs": [
    {
     "data": {
      "text/plain": [
       "{'resume_and_job_decription_rewrite': {'tool_use_case': 'use this tool to rewrite a resume based on a job description provided.',\n",
       "  'prompt': '\"\"\"\\nRewrite the following resume to match the job description provided:\\n\\nResume: {resume}\\n\\nJob Description: {job_description}\\n\\nInstructions:\\n1) Use the available experience, projects, and skills to rewrite the resume.\\n2) Don\\'t Halucinate.\\n3) Don\\'t use any external data but only the resume and job description.\\n4) Don\\'t mention any comments and preamble in the response.\\n\"\"\"\\n',\n",
       "  'inputs': {'resume': 'resume', 'job_description': 'job_description'}},\n",
       " 'cold_mail_and_person_info': {'tool_use_case': \"use this tool to write a professional and inquisitive cold mail tailored to a person's information, seeking job opportunities.\",\n",
       "  'prompt': '\"\"\"\\nUsing the following resume, write a professional and inquisitive cold mail tailored to the provided person\\'s information, seeking job opportunities:\\n\\nResume: {resume}\\n\\nPerson Information: {personal_info}\\n\\nInstructions:\\n0) write in first person.\\n1) Use the available experience, projects, and skills from the resume to write the cold mail.\\n2) The tone must be professional and inquisitive, seeking job opportunities.\\n3) Don\\'t hallucinate.\\n4) Don\\'t use any external data but only the resume and person information.\\n5) Don\\'t mention any comments and preamble in the response.\\n6) Make sure that the entire message is conveyed in not more than 5 lines.\\n7) End with regards.\\n\"\"\"\\n',\n",
       "  'inputs': {'resume': 'resume', 'personal_info': 'personal_info'}},\n",
       " 'cold_mail_no_personal_info': {'tool_use_case': 'use this tool to write a generic professional and inquisitive cold mail seeking job opportunities without any personal information about the recipient.',\n",
       "  'prompt': '\"\"\"\\nUsing the following resume, write a generic professional and inquisitive cold mail seeking job opportunities. No personal information about the recipient is provided.\\n\\nResume: {resume}\\n\\nInstructions:\\n0) write in first person.\\n1) Use the available experience, projects, and skills from the resume to write the cold mail.\\n2) The tone must be professional and inquisitive, seeking job opportunities.\\n3) Don\\'t hallucinate.\\n4) Don\\'t use any external data but only the resume.\\n5) Don\\'t mention any comments and preamble in the response.\\n6) Make sure that the entire message is conveyed in not more than 5 lines.\\n7) End with regards.\\n\"\"\"\\n',\n",
       "  'inputs': {'resume': 'resume'}}}"
      ]
     },
     "execution_count": 17,
     "metadata": {},
     "output_type": "execute_result"
    }
   ],
   "source": [
    "data"
   ]
  },
  {
   "cell_type": "code",
   "execution_count": 21,
   "id": "bc28657b",
   "metadata": {},
   "outputs": [
    {
     "data": {
      "text/plain": [
       "dict_keys(['resume_and_job_decription_rewrite', 'cold_mail_and_person_info', 'cold_mail_no_personal_info'])"
      ]
     },
     "execution_count": 21,
     "metadata": {},
     "output_type": "execute_result"
    }
   ],
   "source": [
    "data.keys()"
   ]
  },
  {
   "cell_type": "code",
   "execution_count": 6,
   "id": "67a5b2b8",
   "metadata": {},
   "outputs": [],
   "source": [
    "from langchain_core.tools import tool\n",
    "\n",
    "def make_tool_func(key):\n",
    "    code = f'''\n",
    "@tool\n",
    "def {key}():\n",
    "    \"\"\"\n",
    "    Description\n",
    "    {data[key][\"tool_use_case\"]}\n",
    "    \"\"\"\n",
    "    input_variables = list(data[key][\"inputs\"].keys())\n",
    "    template = data[key][\"prompt\"].format(\n",
    "        resume=resume, job_description=job_description, personal_info=personal_info\n",
    "    )\n",
    "    prompt_template = PromptTemplate(\n",
    "        input_variables=input_variables,\n",
    "        template=template\n",
    "    )\n",
    "    chain = prompt_template | llm\n",
    "    response = chain.invoke(data[key][\"inputs\"]).content\n",
    "    return response\n",
    "'''\n",
    "    local_vars = {}\n",
    "    exec(code, globals(), local_vars)\n",
    "    return local_vars[key]\n",
    "\n",
    "for key in data.keys():\n",
    "    globals()[key] = make_tool_func(key)"
   ]
  },
  {
   "cell_type": "code",
   "execution_count": 23,
   "id": "f2746d07",
   "metadata": {},
   "outputs": [],
   "source": [
    "llm1=llm_ds.bind_tools(tools=[globals()[key] for key in data.keys()])"
   ]
  },
  {
   "cell_type": "code",
   "execution_count": 24,
   "id": "086c6624",
   "metadata": {},
   "outputs": [
    {
     "data": {
      "text/plain": [
       "AIMessage(content='', additional_kwargs={'reasoning_content': \"Alright, let me try to figure out how to approach this user's query. They've provided a resume for Dinesh Sagar and a personal info section for someone in talent acquisition. They want to write a cold mail, so I need to determine which tool to use.\\n\\nLooking at the tools available, there's one for when personal info is available and another for when it's not. Since the user provided personal info about the recipient, I should use the cold_mail_and_person_info tool.\\n\\nNow, I need to structure the arguments correctly. The resume and personal info should be passed as separate strings. I'll make sure to format them properly in JSON, escaping any special characters if necessary.\\n\\nI should also ensure that the function call is correctly wrapped in the tool_call XML tags as specified. Double-checking the function name and the structure of the arguments is crucial to avoid any errors.\\n\\nFinally, I'll present the tool_call with the appropriate JSON arguments, making sure it's clear and correctly formatted for the system to process.\\n\", 'tool_calls': [{'id': '7cj0wcg49', 'function': {'arguments': '{\"personal_info\":\"Strategic and results-driven talent acquisition leader with a proven track record in recruiting and talent management across diverse industries. I specialize in designing and executing scalable recruitment strategies that align with organizational goals and elevate the candidate experience.\\\\n\\\\nWith a deep understanding of data-driven hiring, I leverage analytics to streamline processes, enhance team performance, and drive informed decision-making. I\\'m not just focused on filling roles\\'\\'I build and lead high-performing recruitment teams capable of managing high-volume, cross-functional hiring with precision and efficiency.\\\\n\\\\nMy approach has consistently improved hiring outcomes, aligning recruitment operations with business objectives while ensuring an exceptional stakeholder experience. Backed by a strong foundation in Customer Relationship Management and Human Resources, I am passionate about delivering excellence in every aspect of talent acquisition.\",\"resume\":\"Dinesh Sagar\\\\n+91-8121909150\\\\n\\\\nMail\\\\n\\\\nGitHub\\\\n\\\\nLinkedIn Profile\\\\nPassionate Data Scientist with a drive to tackle real-world challenges through data analysis and machine learning.\\\\nCommitted to extracting value from complex data and delivering actionable insights to inform business decisions and drive growth. Eager to continuously learn and improve to deliver impactful solutions.\\\\n\\\\nExperience\\\\nCapgemini\\\\nConsultant\\\\nFEB 2025- PRESENT\\\\nAmazon Development Centre India\\\\nQuality Specialist\\\\nJAN 2020 - DEC 2024\\\\nImplemented an outlier detection program to enhance address data quality, improving logistics performance for Amazon Logistics.\\\\nAnalyzed large-scale datasets using statistical methods to optimize delivery operations and resource planning.\\\\nBuilt time series models to forecast peak order volumes, enabling proactive logistics management.\\\\nDeveloped machine learning models to evaluate delivery agent performance, driving operational efficiency.\\\\nCreated interactive dashboards for real-time monitoring and actionable insights.\\\\n\\\\nSkills\\\\nProgramming: Python, SQL\\\\nData Visualization: Tableau, Power BI\\\\nStatistics \\\\u0026 Math: Statistics and Hypothesis Testing, NumPy, Pandas, Scikit-Learn\\\\nMachine Learning: TensorFlow, Keras, Streamlit, Flask, FastAPI\\\\nGenerative AI: LangChain, LangGraph, AWS Bedrock, Azure AI Foundry, Azure Machine Learning, AWS Sagemaker\\\\n\\\\nProjects\\\\nGenerative AI Powered Data Assistants\\\\nMedical RAG agent: Developed a medical chatbot using Pinecone DB for vector storage and Flask for real-time query handling to provide accurate, context-driven medical answers.\\\\nRAG Agent with ChromaDB: Developed an intelligent recommendation system leveraging ChromaDB for reranking and content discovery based on user queries.\\\\nCSV Command Agent: Built an AI-powered tool enabling natural language manipulation of CSV files and SQL query generation, simplifying data operations for non-technical users.\\\\nNamed Entity Recognition (NER) in Tweets Using LSTM+CRF and BERT Models\\\\nDeveloped a robust Named Entity Recognition (NER) system for tweets using LSTM-CRF and BERT models.\\\\nInitialized LSTM-CRF with Word2Vec embeddings and fine-tuned BERT for entity detection.\\\\nExecuted data preprocessing, hyperparameter optimization, and model evaluation to boost accuracy.\\\\nAchieved precise entity recognition on real-world tweet data, ensuring high model performance.\\\\n\\\\nNinjacart Computer Vision Project\\\\nDeveloped a CNN-based computer vision system for Ninjacart to identify onions, potatoes, tomatoes, and noise in produce images.\\\\nLeveraged transfer learning (VGG, ResNet) and data augmentation, with optimized training via callbacks and regularization techniques.\\\\nAchieved robust and accurate vegetable classification.\\\\n\\\\nDelivery Time Estimation for Porter\\'s Delivery Service\\\\nPerformed comprehensive data cleaning, feature engineering, and categorical encoding\\\\nDesigned, trained, and optimized a neural network model using TensorFlow and Keras\\\\nDelivered accurate delivery time predictions, enhancing service quality and operational efficiency\\\\n\\\\nAdEase Wiki Page View Forecasting\\\\nForecasted Wikipedia page views to optimize ad placement for AdEase clients, considering regional and linguistic variations.\\\\nApplied ARIMA, SARIMAX, and Prophet time series models, incorporating exogenous campaign data for enhanced accuracy.\\\\nImproved ad placement strategies based on predicted page view trends, enabling better ROI and targeted advertising campaigns for diverse regions.\\\\n\\\\nEducation\\\\nScaler Data Science and Machine Learning 2024\\\\nChaitanya Bharathi Institute of Technology B.E(Mechanical) 2019\\\\n\\\\nProjects\\\\nZEE Recommendation System\\\\nImplemented a movie recommender system for personalized movie suggestions.\\\\nUtilized user-user and item-item similarity with Cosine and Pearson methods.\\\\nBuilt collaborative filtering and matrix factorization models for recommendations.\\\\nEnhanced user experience through data-driven movie suggestions\\\\n\\\\nGraduate Admissions Prediction\\\\nAnalyzed graduate admissions data, constructed precise linear regression models in Python, and presented actionable insights to enhance student success for Jamboree.\\\\nCreated Linear regression model and implemented Ridge and Lasso regularizations and evaluated model metrics using sklearn stats library. Identified significant predictors (e.g., GRE scores, GPA) for graduate admissions.\\\\nDeveloped accurate linear regression models with R2 score exceeding 0.8.\\\\nDelivered insights and recommendations for improving application profiles.\\\\n\\\\nLoanTap Creditworthiness Model\\\\nDeveloped a Logistic Regression model for LoanTap, analyzed precision vs. recall tradeoffs, and provided actionable insights for enhanced loan decisions.\\\\nCreated several flags and indicators based on the given features and applied a logistic regression model to generate classification report, ROC AUC curve, precision-recall curve.\\\\nRevealed key relationships between loan status and borrower attributes.\\\\nAchieved high AUC score, indicating strong model performance.\\\\nProvided insights into significant predictors of loan defaults, leading to improved creditworthiness assessment.\"}', 'name': 'cold_mail_and_person_info'}, 'type': 'function'}]}, response_metadata={'token_usage': {'completion_tokens': 1388, 'prompt_tokens': 1831, 'total_tokens': 3219, 'completion_time': 5.047272727, 'prompt_time': 0.133900529, 'queue_time': 0.058799881, 'total_time': 5.181173256}, 'model_name': 'deepseek-r1-distill-llama-70b', 'system_fingerprint': 'fp_76307ac09b', 'finish_reason': 'tool_calls', 'logprobs': None}, id='run--9d729032-bfe0-4b38-bb19-c2eb0611f752-0', tool_calls=[{'name': 'cold_mail_and_person_info', 'args': {'personal_info': \"Strategic and results-driven talent acquisition leader with a proven track record in recruiting and talent management across diverse industries. I specialize in designing and executing scalable recruitment strategies that align with organizational goals and elevate the candidate experience.\\n\\nWith a deep understanding of data-driven hiring, I leverage analytics to streamline processes, enhance team performance, and drive informed decision-making. I'm not just focused on filling roles''I build and lead high-performing recruitment teams capable of managing high-volume, cross-functional hiring with precision and efficiency.\\n\\nMy approach has consistently improved hiring outcomes, aligning recruitment operations with business objectives while ensuring an exceptional stakeholder experience. Backed by a strong foundation in Customer Relationship Management and Human Resources, I am passionate about delivering excellence in every aspect of talent acquisition.\", 'resume': \"Dinesh Sagar\\n+91-8121909150\\n\\nMail\\n\\nGitHub\\n\\nLinkedIn Profile\\nPassionate Data Scientist with a drive to tackle real-world challenges through data analysis and machine learning.\\nCommitted to extracting value from complex data and delivering actionable insights to inform business decisions and drive growth. Eager to continuously learn and improve to deliver impactful solutions.\\n\\nExperience\\nCapgemini\\nConsultant\\nFEB 2025- PRESENT\\nAmazon Development Centre India\\nQuality Specialist\\nJAN 2020 - DEC 2024\\nImplemented an outlier detection program to enhance address data quality, improving logistics performance for Amazon Logistics.\\nAnalyzed large-scale datasets using statistical methods to optimize delivery operations and resource planning.\\nBuilt time series models to forecast peak order volumes, enabling proactive logistics management.\\nDeveloped machine learning models to evaluate delivery agent performance, driving operational efficiency.\\nCreated interactive dashboards for real-time monitoring and actionable insights.\\n\\nSkills\\nProgramming: Python, SQL\\nData Visualization: Tableau, Power BI\\nStatistics & Math: Statistics and Hypothesis Testing, NumPy, Pandas, Scikit-Learn\\nMachine Learning: TensorFlow, Keras, Streamlit, Flask, FastAPI\\nGenerative AI: LangChain, LangGraph, AWS Bedrock, Azure AI Foundry, Azure Machine Learning, AWS Sagemaker\\n\\nProjects\\nGenerative AI Powered Data Assistants\\nMedical RAG agent: Developed a medical chatbot using Pinecone DB for vector storage and Flask for real-time query handling to provide accurate, context-driven medical answers.\\nRAG Agent with ChromaDB: Developed an intelligent recommendation system leveraging ChromaDB for reranking and content discovery based on user queries.\\nCSV Command Agent: Built an AI-powered tool enabling natural language manipulation of CSV files and SQL query generation, simplifying data operations for non-technical users.\\nNamed Entity Recognition (NER) in Tweets Using LSTM+CRF and BERT Models\\nDeveloped a robust Named Entity Recognition (NER) system for tweets using LSTM-CRF and BERT models.\\nInitialized LSTM-CRF with Word2Vec embeddings and fine-tuned BERT for entity detection.\\nExecuted data preprocessing, hyperparameter optimization, and model evaluation to boost accuracy.\\nAchieved precise entity recognition on real-world tweet data, ensuring high model performance.\\n\\nNinjacart Computer Vision Project\\nDeveloped a CNN-based computer vision system for Ninjacart to identify onions, potatoes, tomatoes, and noise in produce images.\\nLeveraged transfer learning (VGG, ResNet) and data augmentation, with optimized training via callbacks and regularization techniques.\\nAchieved robust and accurate vegetable classification.\\n\\nDelivery Time Estimation for Porter's Delivery Service\\nPerformed comprehensive data cleaning, feature engineering, and categorical encoding\\nDesigned, trained, and optimized a neural network model using TensorFlow and Keras\\nDelivered accurate delivery time predictions, enhancing service quality and operational efficiency\\n\\nAdEase Wiki Page View Forecasting\\nForecasted Wikipedia page views to optimize ad placement for AdEase clients, considering regional and linguistic variations.\\nApplied ARIMA, SARIMAX, and Prophet time series models, incorporating exogenous campaign data for enhanced accuracy.\\nImproved ad placement strategies based on predicted page view trends, enabling better ROI and targeted advertising campaigns for diverse regions.\\n\\nEducation\\nScaler Data Science and Machine Learning 2024\\nChaitanya Bharathi Institute of Technology B.E(Mechanical) 2019\\n\\nProjects\\nZEE Recommendation System\\nImplemented a movie recommender system for personalized movie suggestions.\\nUtilized user-user and item-item similarity with Cosine and Pearson methods.\\nBuilt collaborative filtering and matrix factorization models for recommendations.\\nEnhanced user experience through data-driven movie suggestions\\n\\nGraduate Admissions Prediction\\nAnalyzed graduate admissions data, constructed precise linear regression models in Python, and presented actionable insights to enhance student success for Jamboree.\\nCreated Linear regression model and implemented Ridge and Lasso regularizations and evaluated model metrics using sklearn stats library. Identified significant predictors (e.g., GRE scores, GPA) for graduate admissions.\\nDeveloped accurate linear regression models with R2 score exceeding 0.8.\\nDelivered insights and recommendations for improving application profiles.\\n\\nLoanTap Creditworthiness Model\\nDeveloped a Logistic Regression model for LoanTap, analyzed precision vs. recall tradeoffs, and provided actionable insights for enhanced loan decisions.\\nCreated several flags and indicators based on the given features and applied a logistic regression model to generate classification report, ROC AUC curve, precision-recall curve.\\nRevealed key relationships between loan status and borrower attributes.\\nAchieved high AUC score, indicating strong model performance.\\nProvided insights into significant predictors of loan defaults, leading to improved creditworthiness assessment.\"}, 'id': '7cj0wcg49', 'type': 'tool_call'}], usage_metadata={'input_tokens': 1831, 'output_tokens': 1388, 'total_tokens': 3219})"
      ]
     },
     "execution_count": 24,
     "metadata": {},
     "output_type": "execute_result"
    }
   ],
   "source": [
    "llm1.invoke(f\"\"\"write a cold mail when resume {resume} and personal _info {personal_info} is given\"\"\")"
   ]
  },
  {
   "cell_type": "code",
   "execution_count": null,
   "id": "aa992fc3",
   "metadata": {},
   "outputs": [],
   "source": []
  },
  {
   "cell_type": "code",
   "execution_count": 37,
   "id": "041ed454",
   "metadata": {},
   "outputs": [],
   "source": [
    "from typing import Annotated\n",
    "\n",
    "from typing_extensions import TypedDict\n",
    "\n",
    "from langgraph.graph import StateGraph, START, END\n",
    "from langgraph.graph.message import add_messages\n",
    "from langchain_core.messages import SystemMessage, HumanMessage, AIMessage\n",
    "from langgraph.prebuilt import ToolNode\n",
    "\n",
    "class State(TypedDict):\n",
    "    # Messages have the type \"list\". The `add_messages` function\n",
    "    # in the annotation defines how this state key should be updated\n",
    "    # (in this case, it appends messages to the list, rather than overwriting them)\n",
    "    messages: Annotated[list, add_messages]\n",
    "    option:str\n",
    "\n",
    "\n",
    "graph = StateGraph(State)"
   ]
  },
  {
   "cell_type": "code",
   "execution_count": 7,
   "id": "92d8251a",
   "metadata": {},
   "outputs": [
    {
     "ename": "NameError",
     "evalue": "name 'State' is not defined",
     "output_type": "error",
     "traceback": [
      "\u001b[31m---------------------------------------------------------------------------\u001b[39m",
      "\u001b[31mNameError\u001b[39m                                 Traceback (most recent call last)",
      "\u001b[36mCell\u001b[39m\u001b[36m \u001b[39m\u001b[32mIn[7]\u001b[39m\u001b[32m, line 33\u001b[39m\n\u001b[32m     24\u001b[39m \u001b[38;5;66;03m# Initialize LLM\u001b[39;00m\n\u001b[32m     25\u001b[39m llm = ChatGroq(\n\u001b[32m     26\u001b[39m     model=\u001b[33m\"\u001b[39m\u001b[33mllama-3.3-70b-versatile\u001b[39m\u001b[33m\"\u001b[39m,\n\u001b[32m     27\u001b[39m     temperature=\u001b[32m0\u001b[39m,\n\u001b[32m   (...)\u001b[39m\u001b[32m     31\u001b[39m     api_key=api_key\n\u001b[32m     32\u001b[39m )\n\u001b[32m---> \u001b[39m\u001b[32m33\u001b[39m \u001b[38;5;28;01mdef\u001b[39;00m\u001b[38;5;250m \u001b[39m\u001b[34mintro1\u001b[39m(state: \u001b[43mState\u001b[49m) -> State:\n\u001b[32m     34\u001b[39m \u001b[38;5;250m    \u001b[39m\u001b[33;03m\"\"\"\u001b[39;00m\n\u001b[32m     35\u001b[39m \u001b[33;03m    This is the first node in the graph. It initializes the messages state.\u001b[39;00m\n\u001b[32m     36\u001b[39m \u001b[33;03m    \"\"\"\u001b[39;00m\n\u001b[32m     37\u001b[39m     \u001b[38;5;28mprint\u001b[39m(\u001b[33m\"\u001b[39m\u001b[33m*\u001b[39m\u001b[33m\"\u001b[39m*\u001b[32m100\u001b[39m)\n",
      "\u001b[31mNameError\u001b[39m: name 'State' is not defined"
     ]
    }
   ],
   "source": [
    "import os\n",
    "import yaml\n",
    "from dotenv import load_dotenv\n",
    "from langchain_groq import ChatGroq\n",
    "from typing import List, TypedDict, Annotated\n",
    "from langchain_community.document_loaders import PyPDFLoader\n",
    "from langchain_core.prompts import PromptTemplate\n",
    "from langchain_core.tools import tool\n",
    "\"\"\"\n",
    "from langchain.vectorstores import FAISS\n",
    "from langchain_core.graph import Graph, Node, StartNode, StopNode\n",
    "from langchain.docstore.document import Document\n",
    "from langchain_community.vectorstores import Chroma\n",
    "from langchain_community.embeddings import HuggingFaceEmbeddings\n",
    "from langchain.chains import RetrievalQA\n",
    "from langchain.prompts import PromptTemplate\n",
    "from langchain.text_splitter import RecursiveCharacterTextSplitter\n",
    "\"\"\"\n",
    "\n",
    "# Load environment variables\n",
    "load_dotenv()\n",
    "api_key = os.environ[\"groq\"]\n",
    "\n",
    "# Initialize LLM\n",
    "llm = ChatGroq(\n",
    "    model=\"llama-3.3-70b-versatile\",\n",
    "    temperature=0,\n",
    "    max_tokens=None,\n",
    "    timeout=None,\n",
    "    max_retries=2,\n",
    "    api_key=api_key\n",
    ")\n",
    "def intro1(state: State) -> State:\n",
    "    \"\"\"\n",
    "    This is the first node in the graph. It initializes the messages state.\n",
    "    \"\"\"\n",
    "    print(\"*\"*100)\n",
    "    for i,j in enumerate(data.keys()):\n",
    "        print(f\"{i+1}. {j}\")\n",
    "\n",
    "    i=input(\"Enter the number corresponding to the key you want to use: \")\n",
    "    print(\"selected number is \",int(i))\n",
    "    key=list(data.keys())[int(i)-1]\n",
    "    state[\"option\"] = key\n",
    "    state[\"messages\"] = [AIMessage(content=f\"Selected option is {key}.\")]\n",
    "    return state"
   ]
  },
  {
   "cell_type": "code",
   "execution_count": 58,
   "id": "2972e4a9",
   "metadata": {},
   "outputs": [],
   "source": [
    "\"\"\"defining llm to assess the input from the introl and selectin the appropriate tool to use  \"\"\"\n",
    "def llm_fx(state: State) -> State:\n",
    "    \"\"\"\n",
    "    This node uses the selected option to invoke the corresponding tool.\n",
    "    \"\"\"\n",
    "    key = state[\"option\"]\n",
    "    input_variables = list(data[key][\"inputs\"].keys())\n",
    "    template = data[key][\"prompt\"].format(\n",
    "        resume=resume, job_description=job_description, personal_info=personal_info\n",
    "    )\n",
    "    prompt_template = PromptTemplate(\n",
    "        input_variables=input_variables,\n",
    "        template=template\n",
    "    )\n",
    "    chain = prompt_template | llm\n",
    "    response = chain.invoke(data[key][\"inputs\"]).content\n",
    "    state[\"messages\"].append(AIMessage(content=response))\n",
    "    return state"
   ]
  },
  {
   "cell_type": "code",
   "execution_count": 59,
   "id": "cf7a00e1",
   "metadata": {},
   "outputs": [
    {
     "name": "stderr",
     "output_type": "stream",
     "text": [
      "Adding a node to a graph that has already been compiled. This will not be reflected in the compiled graph.\n"
     ]
    },
    {
     "ename": "ValueError",
     "evalue": "Node `input` already present.",
     "output_type": "error",
     "traceback": [
      "\u001b[31m---------------------------------------------------------------------------\u001b[39m",
      "\u001b[31mValueError\u001b[39m                                Traceback (most recent call last)",
      "\u001b[36mCell\u001b[39m\u001b[36m \u001b[39m\u001b[32mIn[59]\u001b[39m\u001b[32m, line 5\u001b[39m\n\u001b[32m      2\u001b[39m tools = [\u001b[38;5;28mglobals\u001b[39m()[key] \u001b[38;5;28;01mfor\u001b[39;00m key \u001b[38;5;129;01min\u001b[39;00m data.keys()]\n\u001b[32m      3\u001b[39m tool_node = ToolNode(tools=tools)\n\u001b[32m----> \u001b[39m\u001b[32m5\u001b[39m \u001b[43mgraph\u001b[49m\u001b[43m.\u001b[49m\u001b[43madd_node\u001b[49m\u001b[43m(\u001b[49m\u001b[33;43m\"\u001b[39;49m\u001b[33;43minput\u001b[39;49m\u001b[33;43m\"\u001b[39;49m\u001b[43m,\u001b[49m\u001b[43m \u001b[49m\u001b[43mintro1\u001b[49m\u001b[43m)\u001b[49m\n\u001b[32m      6\u001b[39m graph.add_node(\u001b[33m\"\u001b[39m\u001b[33mllm\u001b[39m\u001b[33m\"\u001b[39m, llm_fx)\n\u001b[32m      7\u001b[39m graph.add_node(\u001b[33m\"\u001b[39m\u001b[33mtools\u001b[39m\u001b[33m\"\u001b[39m, tool_node)\n",
      "\u001b[36mFile \u001b[39m\u001b[32m/workspaces/github_analysis/.venv/lib/python3.12/site-packages/langgraph/graph/state.py:478\u001b[39m, in \u001b[36mStateGraph.add_node\u001b[39m\u001b[34m(self, node, action, defer, metadata, input_schema, retry_policy, cache_policy, destinations, **kwargs)\u001b[39m\n\u001b[32m    476\u001b[39m     \u001b[38;5;28;01mraise\u001b[39;00m \u001b[38;5;167;01mRuntimeError\u001b[39;00m\n\u001b[32m    477\u001b[39m \u001b[38;5;28;01mif\u001b[39;00m node \u001b[38;5;129;01min\u001b[39;00m \u001b[38;5;28mself\u001b[39m.nodes:\n\u001b[32m--> \u001b[39m\u001b[32m478\u001b[39m     \u001b[38;5;28;01mraise\u001b[39;00m \u001b[38;5;167;01mValueError\u001b[39;00m(\u001b[33mf\u001b[39m\u001b[33m\"\u001b[39m\u001b[33mNode `\u001b[39m\u001b[38;5;132;01m{\u001b[39;00mnode\u001b[38;5;132;01m}\u001b[39;00m\u001b[33m` already present.\u001b[39m\u001b[33m\"\u001b[39m)\n\u001b[32m    479\u001b[39m \u001b[38;5;28;01mif\u001b[39;00m node == END \u001b[38;5;129;01mor\u001b[39;00m node == START:\n\u001b[32m    480\u001b[39m     \u001b[38;5;28;01mraise\u001b[39;00m \u001b[38;5;167;01mValueError\u001b[39;00m(\u001b[33mf\u001b[39m\u001b[33m\"\u001b[39m\u001b[33mNode `\u001b[39m\u001b[38;5;132;01m{\u001b[39;00mnode\u001b[38;5;132;01m}\u001b[39;00m\u001b[33m` is reserved.\u001b[39m\u001b[33m\"\u001b[39m)\n",
      "\u001b[31mValueError\u001b[39m: Node `input` already present."
     ]
    }
   ],
   "source": [
    "\"\"\" Adding edges and nodes to the graph \"\"\"\n",
    "tools = [globals()[key] for key in data.keys()]\n",
    "tool_node = ToolNode(tools=tools)\n",
    "\n",
    "graph.add_node(\"input\", intro1)\n",
    "graph.add_node(\"llm\", llm_fx)\n",
    "graph.add_node(\"tools\", tool_node)\n",
    "graph.add_edge(START, \"input\")\n",
    "\n",
    "\n",
    "graph.add_edge(\"input\", \"llm\")\n",
    "graph.add_edge(\"llm\",\"tools\")\n",
    "graph.add_edge(\"tools\",END)  # Add a single node with all tools\n"
   ]
  },
  {
   "cell_type": "code",
   "execution_count": 60,
   "id": "6f4325df",
   "metadata": {},
   "outputs": [],
   "source": [
    "graph1 = graph.compile()"
   ]
  },
  {
   "cell_type": "code",
   "execution_count": 61,
   "id": "16775ef8",
   "metadata": {},
   "outputs": [
    {
     "data": {
      "image/png": "[encoded data removed]",
      "text/plain": [
       "<IPython.core.display.Image object>"
      ]
     },
     "metadata": {},
     "output_type": "display_data"
    }
   ],
   "source": [
    "from IPython.display import Image, display\n",
    "\n",
    "try:\n",
    "    display(Image(graph1.get_graph().draw_mermaid_png()))\n",
    "except Exception:\n",
    "    # This requires some extra dependencies and is optional\n",
    "    pass"
   ]
  },
  {
   "cell_type": "code",
   "execution_count": 62,
   "id": "8fd857f6",
   "metadata": {},
   "outputs": [
    {
     "name": "stdout",
     "output_type": "stream",
     "text": [
      "****************************************************************************************************\n",
      "1. resume_and_job_decription_rewrite\n",
      "2. cold_mail_and_person_info\n",
      "3. cold_mail_no_personal_info\n",
      "selected number is  2\n"
     ]
    },
    {
     "data": {
      "text/plain": [
       "{'messages': [HumanMessage(content='hi please write a cold mail using the resume and personal info', additional_kwargs={}, response_metadata={}, id='1722847f-22ab-4936-9881-18efba3c9f6c'),\n",
       "  AIMessage(content='Selected option is cold_mail_and_person_info.', additional_kwargs={}, response_metadata={}, id='e3d4d067-e798-4ae2-bf67-3732615323e5'),\n",
       "  AIMessage(content=\"Hi, I came across your profile and was impressed with your experience in data science and machine learning, particularly your projects on Generative AI and Computer Vision. I'd love to explore potential opportunities at Deloitte that align with your skills. Can we discuss further? Regards, Dinesh Sagar\", additional_kwargs={}, response_metadata={}, id='b024dbe0-f209-41d0-8d15-6dbba70887c8')],\n",
       " 'option': 'cold_mail_and_person_info'}"
      ]
     },
     "execution_count": 62,
     "metadata": {},
     "output_type": "execute_result"
    }
   ],
   "source": [
    "graph1.invoke({\"messages\":[\"hi please write a cold mail using the resume and personal info\"]})"
   ]
  },
  {
   "cell_type": "code",
   "execution_count": null,
   "id": "eeb0de13",
   "metadata": {},
   "outputs": [
    {
     "data": {
      "image/png": "[encoded data removed]",
      "text/plain": [
       "<IPython.core.display.Image object>"
      ]
     },
     "metadata": {},
     "output_type": "display_data"
    },
    {
     "name": "stdout",
     "output_type": "stream",
     "text": [
      "****************************************************************************************************\n",
      "1. resume_and_job_decription_rewrite\n",
      "2. cold_mail_and_person_info\n",
      "3. cold_mail_no_personal_info\n"
     ]
    }
   ],
   "source": [
    "import os\n",
    "import yaml\n",
    "from dotenv import load_dotenv\n",
    "from langchain_groq import ChatGroq\n",
    "from langchain_core.prompts import PromptTemplate\n",
    "\n",
    "from typing import Annotated\n",
    "\n",
    "from typing_extensions import TypedDict\n",
    "\n",
    "from langgraph.graph import StateGraph, START, END\n",
    "from langgraph.graph.message import add_messages\n",
    "from langchain_core.messages import SystemMessage, HumanMessage, AIMessage\n",
    "from langgraph.prebuilt import ToolNode\n",
    "\n",
    "#from langchain_core.tools import ToolNode\n",
    "from langchain_core.messages import AIMessage\n",
    "\n",
    "def run_graph(data: dict, resume: str, job_description: str, personal_info: str,message:str) -> None:\n",
    "    \"\"\"\n",
    "    This function initializes the environment, sets up the LLM, and runs the graph based on user input.\n",
    "\n",
    "    Args:\n",
    "        data (dict): A dictionary containing the options and prompts.\n",
    "        resume (str): The user's resume.\n",
    "        job_description (str): The job description.\n",
    "        personal_info (str): The user's personal information.\n",
    "    \"\"\"\n",
    "    # Load environment variables\n",
    "    load_dotenv()\n",
    "    api_key = os.environ[\"groq\"]\n",
    "\n",
    "    # Initialize LLM\n",
    "    llm = ChatGroq(\n",
    "        model=\"llama-3.3-70b-versatile\",\n",
    "        temperature=0,\n",
    "        max_tokens=None,\n",
    "        timeout=None,\n",
    "        max_retries=2,\n",
    "        api_key=api_key\n",
    "    )\n",
    "\n",
    "    # Initialize the graph\n",
    "    class State(TypedDict):\n",
    "        # Messages have the type \"list\". The `add_messages` function\n",
    "        # in the annotation defines how this state key should be updated\n",
    "        # (in this case, it appends messages to the list, rather than overwriting them)\n",
    "        messages: Annotated[list, add_messages]\n",
    "        option:str\n",
    "\n",
    "\n",
    "    graph = StateGraph(State)\n",
    "\n",
    "    def intro1(state: dict) -> dict:\n",
    "        \"\"\"\n",
    "        This is the first node in the graph. It initializes the messages state.\n",
    "        \"\"\"\n",
    "        print(\"*\" * 100)\n",
    "        for i, j in enumerate(data.keys()):\n",
    "            print(f\"{i + 1}. {j}\")\n",
    "\n",
    "        i = input(\"Enter the number corresponding to the key you want to use: \")\n",
    "        key = list(data.keys())[int(i) - 1]\n",
    "        state[\"option\"] = key\n",
    "        state[\"messages\"] = [AIMessage(content=f\"Selected option is {key}.\")]\n",
    "        return state\n",
    "\n",
    "    def llm_fx(state: dict) -> dict:\n",
    "        \"\"\"\n",
    "        This node uses the selected option to invoke the corresponding tool.\n",
    "        \"\"\"\n",
    "        key = state[\"option\"]\n",
    "        input_variables = list(data[key][\"inputs\"].keys())\n",
    "        template = data[key][\"prompt\"].format(\n",
    "            resume=resume, job_description=job_description, personal_info=personal_info\n",
    "        )\n",
    "        prompt_template = PromptTemplate(\n",
    "            input_variables=input_variables,\n",
    "            template=template\n",
    "        )\n",
    "        chain = prompt_template | llm\n",
    "        response = chain.invoke(data[key][\"inputs\"]).content\n",
    "        state[\"messages\"].append(AIMessage(content=response))\n",
    "        return state\n",
    "\n",
    "    # Adding edges and nodes to the graph\n",
    "    tools = [globals()[key] for key in data.keys()]\n",
    "    tool_node = ToolNode(tools=tools)\n",
    "\n",
    "    graph.add_node(\"input\", intro1)\n",
    "    graph.add_node(\"llm\", llm_fx)\n",
    "    graph.add_node(\"tools\", tool_node)\n",
    "    graph.add_edge(START, \"input\")\n",
    "    graph.add_edge(\"input\", \"llm\")\n",
    "    graph.add_edge(\"llm\", \"tools\")\n",
    "    graph.add_edge(\"tools\", END)\n",
    "\n",
    "    graph1 = graph.compile()\n",
    "\n",
    "    # Display the graph (optional)\n",
    "    from IPython.display import Image, display\n",
    "    try:\n",
    "        display(Image(graph1.get_graph().draw_mermaid_png()))\n",
    "    except Exception:\n",
    "        pass\n",
    "\n",
    "    # Invoke the graph with a sample message\n",
    "    graph1.invoke({\"messages\": [message]})\n",
    "\n",
    "# Example usage\n",
    "run_graph(data, resume, job_description, personal_info,message=f\"{state[\"option\"]}\")\n"
   ]
  },
  {
   "cell_type": "code",
   "execution_count": 30,
   "id": "946b5718",
   "metadata": {},
   "outputs": [],
   "source": [
    "resume,personal_info=\"\",\"\"\"As a HR Analyst and a Talent Acquisition Specialist at Deloitte, I apply my skills to support the organization's human capital strategy and goals. \n",
    "\n",
    "I also leverage my recruiting experience from my previous roles at Accenture and PwC India to source, screen, and hire qualified candidates for various positions at Deloitte, ensuring a smooth and positive candidate experience. I am passionate about finding and attracting talent that matches the organization's culture and values, and that can contribute to its growth and success. I am always eager to learn new things and explore new opportunities in the HR and data science fields.\"\"\"\n",
    "with open('/workspaces/github_analysis/data/job_description.txt', 'r') as file:\n",
    "    job_description=file.read()\n",
    "loader = PyPDFLoader(\"/workspaces/github_analysis/data/resume_with_capg.pdf\")\n",
    "documents = loader.load()\n",
    "for i in documents:\n",
    "    resume+=(i.page_content.strip())\n",
    "    \n",
    "with open('/workspaces/github_analysis/src/prompts.yaml', 'r') as file:\n",
    "    data = yaml.safe_load(file)\n",
    "    "
   ]
  },
  {
   "cell_type": "code",
   "execution_count": 31,
   "id": "350c62e9",
   "metadata": {},
   "outputs": [
    {
     "data": {
      "image/png": "[encoded data removed]",
      "text/plain": [
       "<IPython.core.display.Image object>"
      ]
     },
     "metadata": {},
     "output_type": "display_data"
    },
    {
     "name": "stdout",
     "output_type": "stream",
     "text": [
      "****************************************************************************************************\n",
      "1. resume_and_job_decription_rewrite\n",
      "2. cold_mail_and_person_info\n",
      "3. cold_mail_no_personal_info\n",
      "Final Result: Dinesh Sagar\n",
      "+91-8121909150\n",
      "\n",
      "Mail\n",
      "GitHub\n",
      "LinkedIn Profile\n",
      "Passionate Data Scientist with a drive to tackle real-world challenges through data analysis and machine learning, committed to extracting value from complex data and delivering actionable insights to inform business decisions and drive growth.\n",
      "\n",
      "Experience\n",
      "Capgemini\n",
      "Consultant\n",
      "FEB 2025- PRESENT\n",
      "Amazon Development Centre India\n",
      "Quality Specialist\n",
      "JAN 2020 - DEC 2024\n",
      "Implemented an outlier detection program to enhance address data quality, improving logistics performance for Amazon Logistics using statistical methods and machine learning models.\n",
      "Analyzed large-scale datasets to optimize delivery operations and resource planning, and built time series models to forecast peak order volumes, enabling proactive logistics management.\n",
      "Developed machine learning models to evaluate delivery agent performance, driving operational efficiency, and created interactive dashboards for real-time monitoring and actionable insights.\n",
      "\n",
      "Skills\n",
      "Programming: Python, SQL\n",
      "Data Visualization: Tableau, Power BI\n",
      "Statistics & Math: Statistics and Hypothesis Testing, NumPy, Pandas, Scikit-Learn\n",
      "Machine Learning: TensorFlow, Keras, Streamlit, Flask, FastAPI\n",
      "Cloud: Experience with AWS, Azure AI Foundry, Azure Machine Learning, AWS Sagemaker\n",
      "DevOps: Experience with version control systems like GitHub and CI/CD tools\n",
      "\n",
      "Projects\n",
      "Generative AI Powered Data Assistants: Developed a medical chatbot using Pinecone DB for vector storage and Flask for real-time query handling, and an intelligent recommendation system leveraging ChromaDB for reranking and content discovery.\n",
      "Named Entity Recognition (NER) in Tweets: Developed a robust NER system using LSTM-CRF and BERT models, achieving precise entity recognition on real-world tweet data.\n",
      "Ninjacart Computer Vision Project: Developed a CNN-based computer vision system to identify onions, potatoes, tomatoes, and noise in produce images, leveraging transfer learning and data augmentation.\n",
      "Delivery Time Estimation for Porter's Delivery Service: Designed, trained, and optimized a neural network model using TensorFlow and Keras to deliver accurate delivery time predictions.\n",
      "AdEase Wiki Page View Forecasting: Forecasted Wikipedia page views to optimize ad placement for AdEase clients, applying ARIMA, SARIMAX, and Prophet time series models.\n",
      "\n",
      "Education\n",
      "Scaler\n",
      "Data Science and Machine Learning\n",
      "2024\n",
      "Chaitanya Bharathi Institute of Technology\n",
      "B.E (Mechanical)\n",
      "2019\n",
      "\n",
      "Certifications\n",
      "Python Libraries, EDA Fundamentals\n",
      "Supervised & Unsupervised Learning\n",
      "Natural Language Processing, Computer Vision\n",
      "\n",
      "Achievements\n",
      "Developed a movie recommender system for personalized movie suggestions using collaborative filtering and matrix factorization models.\n",
      "Analyzed graduate admissions data and constructed precise linear regression models to enhance student success.\n",
      "Developed a logistic regression model for LoanTap to analyze precision vs. recall tradeoffs and provide actionable insights for enhanced loan decisions.\n"
     ]
    }
   ],
   "source": [
    "import os\n",
    "import yaml\n",
    "from dotenv import load_dotenv\n",
    "from langchain_groq import ChatGroq\n",
    "from langchain_core.prompts import PromptTemplate\n",
    "from typing import Annotated\n",
    "from typing_extensions import TypedDict\n",
    "from langgraph.graph import StateGraph, START, END\n",
    "from langgraph.graph.message import add_messages\n",
    "from langchain_core.messages import AIMessage\n",
    "\n",
    "def run_graph(data: dict, resume: str, job_description: str, personal_info: str) -> None:\n",
    "    \"\"\"\n",
    "    This function initializes the environment, sets up the LLM, and runs the graph based on user input.\n",
    "\n",
    "    Args:\n",
    "        data (dict): A dictionary containing the options and prompts.\n",
    "        resume (str): The user's resume.\n",
    "        job_description (str): The job description.\n",
    "        personal_info (str): The recruiter's personal information.\n",
    "    \"\"\"\n",
    "    # Load environment variables\n",
    "    load_dotenv()\n",
    "    api_key = os.environ[\"groq\"]\n",
    "\n",
    "    # Initialize LLM\n",
    "    llm = ChatGroq(\n",
    "        model=\"llama-3.3-70b-versatile\",\n",
    "        temperature=0,\n",
    "        max_tokens=None,\n",
    "        timeout=None,\n",
    "        max_retries=2,\n",
    "        api_key=api_key\n",
    "    )\n",
    "\n",
    "    # Initialize the graph\n",
    "    class State(TypedDict):\n",
    "        messages: Annotated[list, add_messages]\n",
    "        option: str\n",
    "\n",
    "    graph = StateGraph(State)\n",
    "\n",
    "    def intro1(state: State) -> dict:\n",
    "        \"\"\"\n",
    "        This is the first node in the graph. It initializes the messages state.\n",
    "        \"\"\"\n",
    "        print(\"*\" * 100)\n",
    "        for i, j in enumerate(data.keys()):\n",
    "            print(f\"{i + 1}. {j}\")\n",
    "\n",
    "        i = input(\"Enter the number corresponding to the key you want to use: \")\n",
    "        key = list(data.keys())[int(i) - 1]\n",
    "        state[\"option\"] = key\n",
    "        state[\"messages\"] = [AIMessage(content=f\"Selected option is {key}.\")]\n",
    "        return state\n",
    "\n",
    "    def llm_fx(state: State) -> dict:\n",
    "        \"\"\"\n",
    "        This node uses the selected option to invoke the corresponding tool.\n",
    "        \"\"\"\n",
    "        key = state[\"option\"]\n",
    "        input_variables = list(data[key][\"inputs\"].keys())\n",
    "        template = data[key][\"prompt\"].format(\n",
    "            resume=resume, job_description=job_description, personal_info=personal_info\n",
    "        )\n",
    "        prompt_template = PromptTemplate(\n",
    "            input_variables=input_variables,\n",
    "            template=template\n",
    "        )\n",
    "        chain = prompt_template | llm\n",
    "        response = chain.invoke(data[key][\"inputs\"]).content\n",
    "        state[\"messages\"].append(AIMessage(content=response))\n",
    "        return state\n",
    "\n",
    "    # Adding nodes and edges to the graph without tools\n",
    "    graph.add_node(\"input\", intro1)\n",
    "    graph.add_node(\"llm\", llm_fx)\n",
    "    graph.add_edge(START, \"input\")\n",
    "    graph.add_edge(\"input\", \"llm\")\n",
    "    graph.add_edge(\"llm\", END)  # Directly connect llm to END\n",
    "\n",
    "    graph1 = graph.compile()\n",
    "\n",
    "    # Display the graph (optional)\n",
    "    from IPython.display import Image, display\n",
    "    try:\n",
    "        display(Image(graph1.get_graph().draw_mermaid_png()))\n",
    "    except Exception as e:\n",
    "        print(f\"Error displaying graph: {e}\")\n",
    "\n",
    "    # Invoke the graph with a sample message\n",
    "    # Display the final result to the user\n",
    "    final_state = graph1.invoke({\"messages\": [\"Welcome to the graph!\"]})\n",
    "    final_response = final_state[\"messages\"][-1].content  # Get the last message from the state\n",
    "    print(\"Final Result:\", final_response)\n",
    "\n",
    "# Example usage\n",
    "# Define your data, resume, job description, and personal info before calling the function\n",
    "# data = {...}\n",
    "# resume = \"...\"\n",
    "# job_description = \"...\"\n",
    "# personal_info = \"...\"\n",
    "response=run_graph(data, resume, job_description, personal_info)\n"
   ]
  },
  {
   "cell_type": "code",
   "execution_count": 32,
   "id": "839d8b20",
   "metadata": {},
   "outputs": [],
   "source": [
    "import streamlit as st"
   ]
  },
  {
   "cell_type": "code",
   "execution_count": 33,
   "id": "f584612f",
   "metadata": {},
   "outputs": [
    {
     "name": "stderr",
     "output_type": "stream",
     "text": [
      "2025-07-23 07:09:56.534 WARNING streamlit.runtime.scriptrunner_utils.script_run_context: Thread 'MainThread': missing ScriptRunContext! This warning can be ignored when running in bare mode.\n",
      "2025-07-23 07:09:56.642 \n",
      "  \u001b[33m\u001b[1mWarning:\u001b[0m to view this Streamlit app on a browser, run it with the following\n",
      "  command:\n",
      "\n",
      "    streamlit run /workspaces/github_analysis/.venv/lib/python3.12/site-packages/ipykernel_launcher.py [ARGUMENTS]\n",
      "2025-07-23 07:09:56.643 Thread 'MainThread': missing ScriptRunContext! This warning can be ignored when running in bare mode.\n",
      "2025-07-23 07:09:56.644 Thread 'MainThread': missing ScriptRunContext! This warning can be ignored when running in bare mode.\n",
      "2025-07-23 07:09:56.649 Thread 'MainThread': missing ScriptRunContext! This warning can be ignored when running in bare mode.\n",
      "2025-07-23 07:09:56.650 Thread 'MainThread': missing ScriptRunContext! This warning can be ignored when running in bare mode.\n",
      "2025-07-23 07:09:56.650 Thread 'MainThread': missing ScriptRunContext! This warning can be ignored when running in bare mode.\n",
      "2025-07-23 07:09:56.653 Thread 'MainThread': missing ScriptRunContext! This warning can be ignored when running in bare mode.\n",
      "2025-07-23 07:09:56.654 Session state does not function when running a script without `streamlit run`\n",
      "2025-07-23 07:09:56.657 Thread 'MainThread': missing ScriptRunContext! This warning can be ignored when running in bare mode.\n",
      "2025-07-23 07:09:56.657 Thread 'MainThread': missing ScriptRunContext! This warning can be ignored when running in bare mode.\n",
      "2025-07-23 07:09:56.658 Thread 'MainThread': missing ScriptRunContext! This warning can be ignored when running in bare mode.\n",
      "2025-07-23 07:09:56.659 Thread 'MainThread': missing ScriptRunContext! This warning can be ignored when running in bare mode.\n",
      "2025-07-23 07:09:56.661 Thread 'MainThread': missing ScriptRunContext! This warning can be ignored when running in bare mode.\n",
      "2025-07-23 07:09:56.663 Thread 'MainThread': missing ScriptRunContext! This warning can be ignored when running in bare mode.\n",
      "2025-07-23 07:09:56.663 Thread 'MainThread': missing ScriptRunContext! This warning can be ignored when running in bare mode.\n",
      "2025-07-23 07:09:56.664 Thread 'MainThread': missing ScriptRunContext! This warning can be ignored when running in bare mode.\n",
      "2025-07-23 07:09:56.665 Thread 'MainThread': missing ScriptRunContext! This warning can be ignored when running in bare mode.\n",
      "2025-07-23 07:09:56.666 Thread 'MainThread': missing ScriptRunContext! This warning can be ignored when running in bare mode.\n",
      "2025-07-23 07:09:56.668 Thread 'MainThread': missing ScriptRunContext! This warning can be ignored when running in bare mode.\n",
      "2025-07-23 07:09:56.670 Thread 'MainThread': missing ScriptRunContext! This warning can be ignored when running in bare mode.\n",
      "2025-07-23 07:09:56.671 Thread 'MainThread': missing ScriptRunContext! This warning can be ignored when running in bare mode.\n",
      "2025-07-23 07:09:56.672 Thread 'MainThread': missing ScriptRunContext! This warning can be ignored when running in bare mode.\n",
      "2025-07-23 07:09:56.672 Thread 'MainThread': missing ScriptRunContext! This warning can be ignored when running in bare mode.\n",
      "2025-07-23 07:09:56.673 Thread 'MainThread': missing ScriptRunContext! This warning can be ignored when running in bare mode.\n",
      "2025-07-23 07:09:56.674 Thread 'MainThread': missing ScriptRunContext! This warning can be ignored when running in bare mode.\n",
      "2025-07-23 07:09:56.674 Thread 'MainThread': missing ScriptRunContext! This warning can be ignored when running in bare mode.\n",
      "2025-07-23 07:09:56.675 Thread 'MainThread': missing ScriptRunContext! This warning can be ignored when running in bare mode.\n",
      "2025-07-23 07:09:56.676 Thread 'MainThread': missing ScriptRunContext! This warning can be ignored when running in bare mode.\n",
      "2025-07-23 07:09:56.676 Thread 'MainThread': missing ScriptRunContext! This warning can be ignored when running in bare mode.\n",
      "2025-07-23 07:09:56.678 Thread 'MainThread': missing ScriptRunContext! This warning can be ignored when running in bare mode.\n",
      "2025-07-23 07:09:56.678 Thread 'MainThread': missing ScriptRunContext! This warning can be ignored when running in bare mode.\n",
      "2025-07-23 07:09:56.679 Thread 'MainThread': missing ScriptRunContext! This warning can be ignored when running in bare mode.\n",
      "2025-07-23 07:09:56.679 Thread 'MainThread': missing ScriptRunContext! This warning can be ignored when running in bare mode.\n",
      "2025-07-23 07:09:56.680 Thread 'MainThread': missing ScriptRunContext! This warning can be ignored when running in bare mode.\n",
      "2025-07-23 07:09:56.680 Thread 'MainThread': missing ScriptRunContext! This warning can be ignored when running in bare mode.\n",
      "2025-07-23 07:09:56.681 Thread 'MainThread': missing ScriptRunContext! This warning can be ignored when running in bare mode.\n",
      "2025-07-23 07:09:56.682 Thread 'MainThread': missing ScriptRunContext! This warning can be ignored when running in bare mode.\n"
     ]
    }
   ],
   "source": [
    "import streamlit as st\n",
    "import os\n",
    "import yaml\n",
    "from dotenv import load_dotenv\n",
    "from langchain_groq import ChatGroq\n",
    "from langchain_core.prompts import PromptTemplate\n",
    "from typing import Annotated\n",
    "from typing_extensions import TypedDict\n",
    "from langgraph.graph import StateGraph, START, END\n",
    "from langgraph.graph.message import add_messages\n",
    "from langchain_core.messages import AIMessage\n",
    "\n",
    "# Load environment variables\n",
    "load_dotenv()\n",
    "api_key = os.environ[\"groq\"]\n",
    "\n",
    "# Initialize LLM\n",
    "llm = ChatGroq(\n",
    "    model=\"llama-3.3-70b-versatile\",\n",
    "    temperature=0,\n",
    "    max_tokens=None,\n",
    "    timeout=None,\n",
    "    max_retries=2,\n",
    "    api_key=api_key\n",
    ")\n",
    "\n",
    "def run_graph(data: dict, resume: str, job_description: str, personal_info: str) -> None:\n",
    "    class State(TypedDict):\n",
    "        messages: Annotated[list, add_messages]\n",
    "        option: str\n",
    "\n",
    "    graph = StateGraph(State)\n",
    "\n",
    "    def intro1(state: State) -> dict:\n",
    "        state[\"option\"] = st.session_state[\"option\"]\n",
    "        state[\"messages\"] = [AIMessage(content=f\"Selected option is {state['option']}.\")]\n",
    "        return state\n",
    "\n",
    "    def llm_fx(state: State) -> dict:\n",
    "        key = state[\"option\"]\n",
    "        input_variables = list(data[key][\"inputs\"].keys())\n",
    "        template = data[key][\"prompt\"].format(\n",
    "            resume=resume, job_description=job_description, personal_info=personal_info\n",
    "        )\n",
    "        prompt_template = PromptTemplate(\n",
    "            input_variables=input_variables,\n",
    "            template=template\n",
    "        )\n",
    "        chain = prompt_template | llm\n",
    "        response = chain.invoke(data[key][\"inputs\"]).content\n",
    "        state[\"messages\"].append(AIMessage(content=response))\n",
    "        return state\n",
    "\n",
    "    graph.add_node(\"input\", intro1)\n",
    "    graph.add_node(\"llm\", llm_fx)\n",
    "    graph.add_edge(START, \"input\")\n",
    "    graph.add_edge(\"input\", \"llm\")\n",
    "    graph.add_edge(\"llm\", END)\n",
    "\n",
    "    graph1 = graph.compile()\n",
    "\n",
    "    final_state = graph1.invoke({\"messages\": [\"Welcome to the graph!\"]})\n",
    "    final_response = final_state[\"messages\"][-1].content  \n",
    "    return final_response\n",
    "\n",
    "def main():\n",
    "    st.title(\"Graph App\")\n",
    "\n",
    "    with open('/workspaces/github_analysis/src/prompts.yaml', 'r') as file:\n",
    "        data = yaml.safe_load(file)\n",
    "\n",
    "    options = list(data.keys())\n",
    "    st.selectbox(\"Select an option\", options, key=\"option\")\n",
    "\n",
    "    uploaded_resume = st.file_uploader(\"Upload your resume\", type=[\"pdf\", \"docx\", \"txt\"])\n",
    "\n",
    "    if uploaded_resume is not None:\n",
    "        resume = uploaded_resume.read().decode(\"utf-8\")\n",
    "        st.write(\"Resume uploaded successfully!\")\n",
    "\n",
    "    job_description = st.text_area(\"Enter the job description\")\n",
    "    personal_info = st.text_area(\"Enter your personal info\")\n",
    "\n",
    "    if st.button(\"Run\") and uploaded_resume is not None:\n",
    "        response = run_graph(data, resume, job_description, personal_info)\n",
    "        st.write(\"Final Result:\", response)\n",
    "\n",
    "if __name__ == \"__main__\":\n",
    "    main()\n"
   ]
  },
  {
   "cell_type": "code",
   "execution_count": 13,
   "id": "edcdfe73",
   "metadata": {},
   "outputs": [],
   "source": [
    "from helpers_final import *"
   ]
  },
  {
   "cell_type": "code",
   "execution_count": 6,
   "id": "45ebd37f",
   "metadata": {},
   "outputs": [],
   "source": [
    "llm=LLM().llm"
   ]
  },
  {
   "cell_type": "code",
   "execution_count": 7,
   "id": "8f819d1b",
   "metadata": {},
   "outputs": [
    {
     "data": {
      "text/plain": [
       "\"It's nice to meet you. Is there something I can help you with or would you like to chat?\""
      ]
     },
     "execution_count": 7,
     "metadata": {},
     "output_type": "execute_result"
    }
   ],
   "source": [
    "llm.invoke(\"hi\").content"
   ]
  },
  {
   "cell_type": "code",
   "execution_count": 14,
   "id": "e844b77c",
   "metadata": {},
   "outputs": [
    {
     "ename": "NameError",
     "evalue": "name 'functions' is not defined",
     "output_type": "error",
     "traceback": [
      "\u001b[31m---------------------------------------------------------------------------\u001b[39m",
      "\u001b[31mNameError\u001b[39m                                 Traceback (most recent call last)",
      "\u001b[36mCell\u001b[39m\u001b[36m \u001b[39m\u001b[32mIn[14]\u001b[39m\u001b[32m, line 1\u001b[39m\n\u001b[32m----> \u001b[39m\u001b[32m1\u001b[39m fx=\u001b[43mfunctions\u001b[49m()\n",
      "\u001b[31mNameError\u001b[39m: name 'functions' is not defined"
     ]
    }
   ],
   "source": [
    "fx=functions()"
   ]
  },
  {
   "cell_type": "code",
   "execution_count": null,
   "id": "f7276536",
   "metadata": {},
   "outputs": [],
   "source": []
  }
 ],
 "metadata": {
  "kernelspec": {
   "display_name": ".venv",
   "language": "python",
   "name": "python3"
  },
  "language_info": {
   "codemirror_mode": {
    "name": "ipython",
    "version": 3
   },
   "file_extension": ".py",
   "mimetype": "text/x-python",
   "name": "python",
   "nbconvert_exporter": "python",
   "pygments_lexer": "ipython3",
   "version": "3.12.1"
  }
 },
 "nbformat": 4,
 "nbformat_minor": 5
}
